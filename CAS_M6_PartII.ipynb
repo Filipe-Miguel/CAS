{
  "nbformat": 4,
  "nbformat_minor": 0,
  "metadata": {
    "colab": {
      "provenance": [],
      "authorship_tag": "ABX9TyPjSQcpWm4tPsdn0iQUJePh",
      "include_colab_link": true
    },
    "kernelspec": {
      "name": "python3",
      "display_name": "Python 3"
    },
    "language_info": {
      "name": "python"
    }
  },
  "cells": [
    {
      "cell_type": "markdown",
      "metadata": {
        "id": "view-in-github",
        "colab_type": "text"
      },
      "source": [
        "<a href=\"https://colab.research.google.com/github/Filipe-Miguel/CAS/blob/main/CAS_M6_PartII.ipynb\" target=\"_parent\"><img src=\"https://colab.research.google.com/assets/colab-badge.svg\" alt=\"Open In Colab\"/></a>"
      ]
    },
    {
      "cell_type": "markdown",
      "source": [
        "# **CAS M6 - Part II**\n",
        "\n",
        "Filipe Maximiano & Laura Cunha Silva \n",
        "\n",
        "\n",
        "\n",
        "*   Recurrent Neural Networks application to Image classification dataset \n"
      ],
      "metadata": {
        "id": "HOTI02znhQ_z"
      }
    },
    {
      "cell_type": "markdown",
      "source": [
        "Import Images"
      ],
      "metadata": {
        "id": "_FGzyjMXoOXk"
      }
    },
    {
      "cell_type": "code",
      "source": [
        "from tensorflow.keras.layers import Input, Lambda, Dense, Flatten,Dropout\n",
        "from tensorflow.keras.models import Model\n",
        "from tensorflow.keras.applications.vgg19 import VGG19\n",
        "from tensorflow.keras.applications.vgg19 import preprocess_input\n",
        "from tensorflow.keras.preprocessing import image\n",
        "from tensorflow.keras.preprocessing.image import ImageDataGenerator\n",
        "from tensorflow.keras.models import Sequential\n",
        "import numpy as np\n",
        "import pandas as pd\n",
        "import os\n",
        "import cv2\n",
        "import matplotlib.pyplot as plt\n",
        "\n",
        "# Common\n",
        "import os \n",
        "import keras \n",
        "import numpy as np\n",
        "import tensorflow as tf\n",
        "\n",
        "# Data Loading\n",
        "from keras.preprocessing.image import ImageDataGenerator\n",
        "\n",
        "# Data Visualization\n",
        "import plotly.express as px\n",
        "import matplotlib.pyplot as plt\n",
        "\n",
        "# Model \n",
        "import tensorflow_hub as hub\n",
        "from keras.models import Sequential, load_model\n",
        "from keras.layers import Dense\n",
        "\n",
        "# Callbacks\n",
        "from keras.callbacks import EarlyStopping, ModelCheckpoint\n",
        "\n",
        "# Optimizer\n",
        "from tensorflow.keras.optimizers import Adam\n",
        "     "
      ],
      "metadata": {
        "id": "K7Q6oWKUkY5X"
      },
      "execution_count": 2,
      "outputs": []
    },
    {
      "cell_type": "markdown",
      "source": [
        "Mount drive "
      ],
      "metadata": {
        "id": "iHd3rhIEoTil"
      }
    },
    {
      "cell_type": "code",
      "source": [
        "from google.colab import drive\n",
        "drive.mount(\"/content/drive\")"
      ],
      "metadata": {
        "colab": {
          "base_uri": "https://localhost:8080/"
        },
        "id": "4WEBwiHxn_ES",
        "outputId": "39c01aa3-8782-4f1a-8503-266a6074bdac"
      },
      "execution_count": 3,
      "outputs": [
        {
          "output_type": "stream",
          "name": "stdout",
          "text": [
            "Mounted at /content/drive\n"
          ]
        }
      ]
    },
    {
      "cell_type": "markdown",
      "source": [
        "Set data paths "
      ],
      "metadata": {
        "id": "7wZCtI2KoW7-"
      }
    },
    {
      "cell_type": "code",
      "source": [
        "train_path=\"/content/drive/MyDrive/CAS_M3/Train\"\n",
        "test_path=\"/content/drive/MyDrive/CAS_M3/Test\"\n",
        "val_path=\"/content/drive/MyDrive/CAS_M3/Validation\"\n"
      ],
      "metadata": {
        "id": "zuoTsYh6oCXp"
      },
      "execution_count": 4,
      "outputs": []
    },
    {
      "cell_type": "markdown",
      "source": [
        "Upload training set "
      ],
      "metadata": {
        "id": "-fo8_papojzA"
      }
    },
    {
      "cell_type": "code",
      "source": [
        "x_train=[]\n",
        "\n",
        "for folder in os.listdir(train_path):\n",
        "\n",
        "    sub_path=train_path+\"/\"+folder\n",
        "\n",
        "    for img in os.listdir(sub_path):\n",
        "\n",
        "        image_path=sub_path+\"/\"+img\n",
        "\n",
        "        img_arr=cv2.imread(image_path)\n",
        "\n",
        "        img_arr= cv2.resize(img_arr,(224,224))\n",
        "\n",
        "        x_train.append(img_arr)"
      ],
      "metadata": {
        "id": "5jcuva42owzC"
      },
      "execution_count": null,
      "outputs": []
    },
    {
      "cell_type": "code",
      "source": [
        "plt.imshow(x_train[7])\n",
        "     "
      ],
      "metadata": {
        "id": "2QzNmg_Oo09_"
      },
      "execution_count": null,
      "outputs": []
    },
    {
      "cell_type": "code",
      "source": [],
      "metadata": {
        "id": "kMLJzsXXo06W"
      },
      "execution_count": null,
      "outputs": []
    },
    {
      "cell_type": "code",
      "source": [],
      "metadata": {
        "id": "6ZtrOHeUo0zh"
      },
      "execution_count": null,
      "outputs": []
    },
    {
      "cell_type": "code",
      "source": [],
      "metadata": {
        "id": "5wcCzyXFo0s-"
      },
      "execution_count": null,
      "outputs": []
    }
  ]
}