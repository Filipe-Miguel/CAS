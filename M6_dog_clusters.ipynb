{
  "nbformat": 4,
  "nbformat_minor": 0,
  "metadata": {
    "colab": {
      "provenance": [],
      "toc_visible": true,
      "authorship_tag": "ABX9TyM/l69CO798eUguj7AmB21z",
      "include_colab_link": true
    },
    "kernelspec": {
      "name": "python3",
      "display_name": "Python 3"
    },
    "language_info": {
      "name": "python"
    }
  },
  "cells": [
    {
      "cell_type": "markdown",
      "metadata": {
        "id": "view-in-github",
        "colab_type": "text"
      },
      "source": [
        "<a href=\"https://colab.research.google.com/github/Filipe-Miguel/CAS/blob/main/M6_dog_clusters.ipynb\" target=\"_parent\"><img src=\"https://colab.research.google.com/assets/colab-badge.svg\" alt=\"Open In Colab\"/></a>"
      ]
    },
    {
      "cell_type": "code",
      "execution_count": null,
      "metadata": {
        "id": "dkYRcaBTeqP3"
      },
      "outputs": [],
      "source": [
        "#Import the dataset \n",
        "from google.colab import files\n",
        "uploaded = files.upload()\n",
        "# import the python module pandas with the abbreviation pd\n",
        "import pandas as pd"
      ]
    }
  ]
}