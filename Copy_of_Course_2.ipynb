{
  "cells": [
    {
      "cell_type": "markdown",
      "metadata": {
        "id": "view-in-github",
        "colab_type": "text"
      },
      "source": [
        "<a href=\"https://colab.research.google.com/github/Filipe-Miguel/CAS/blob/main/Copy_of_Course_2.ipynb\" target=\"_parent\"><img src=\"https://colab.research.google.com/assets/colab-badge.svg\" alt=\"Open In Colab\"/></a>"
      ]
    },
    {
      "cell_type": "markdown",
      "metadata": {
        "id": "3uRC8olfZCPU"
      },
      "source": [
        "# Introduction to machine learning & Data Analysis\n",
        "\n",
        "Basic introduction on how to perform typical machine learning tasks with Python.\n",
        "\n",
        "Prepared by Mykhailo Vladymyrov & Aris Marcolongo,\n",
        "Data Science Lab, University Of Bern, 2022\n",
        "\n",
        "This work is licensed under <a href=\"https://creativecommons.org/share-your-work/public-domain/cc0/\">CC0</a>.\n",
        "\n",
        "# Part 1."
      ]
    },
    {
      "cell_type": "markdown",
      "metadata": {
        "id": "b-fYVr8NTLeK"
      },
      "source": [
        "# Load libraries"
      ]
    },
    {
      "cell_type": "code",
      "execution_count": 3,
      "metadata": {
        "ExecuteTime": {
          "end_time": "2022-09-27T14:05:44.613282Z",
          "start_time": "2022-09-27T14:05:43.538999Z"
        },
        "id": "hVJn0ilgOS8F",
        "scrolled": false
      },
      "outputs": [],
      "source": [
        "from sklearn import tree\n",
        "from sklearn import ensemble\n",
        "\n",
        "from sklearn.datasets import make_blobs\n",
        "from sklearn.model_selection import train_test_split\n",
        "from sklearn import metrics\n",
        "from sklearn.preprocessing import StandardScaler\n",
        "from sklearn.decomposition import PCA\n",
        "\n",
        "from matplotlib import  pyplot as plt\n",
        "import seaborn as sns\n",
        "#sns.set()\n",
        "\n",
        "from time import time as timer\n",
        "from imageio import imread\n",
        "import pandas as pd\n",
        "import numpy as np\n",
        "import os\n",
        "\n",
        "from sklearn.manifold import TSNE\n",
        "\n",
        "import tensorflow as tf\n",
        "import tarfile\n",
        "\n",
        "%matplotlib inline\n",
        "from matplotlib import animation\n",
        "from IPython.display import HTML"
      ]
    },
    {
      "cell_type": "code",
      "execution_count": 4,
      "metadata": {
        "id": "lEpoFs4RYVff",
        "outputId": "cec5a1e3-25ef-492b-9db7-37ed60acec62",
        "colab": {
          "base_uri": "https://localhost:8080/"
        }
      },
      "outputs": [
        {
          "output_type": "stream",
          "name": "stdout",
          "text": [
            "Looking in indexes: https://pypi.org/simple, https://us-python.pkg.dev/colab-wheels/public/simple/\n",
            "Collecting umap-learn\n",
            "  Downloading umap-learn-0.5.3.tar.gz (88 kB)\n",
            "\u001b[K     |████████████████████████████████| 88 kB 5.4 MB/s \n",
            "\u001b[?25hRequirement already satisfied: numpy>=1.17 in /usr/local/lib/python3.7/dist-packages (from umap-learn) (1.21.6)\n",
            "Requirement already satisfied: scikit-learn>=0.22 in /usr/local/lib/python3.7/dist-packages (from umap-learn) (1.0.2)\n",
            "Requirement already satisfied: scipy>=1.0 in /usr/local/lib/python3.7/dist-packages (from umap-learn) (1.7.3)\n",
            "Requirement already satisfied: numba>=0.49 in /usr/local/lib/python3.7/dist-packages (from umap-learn) (0.56.2)\n",
            "Collecting pynndescent>=0.5\n",
            "  Downloading pynndescent-0.5.7.tar.gz (1.1 MB)\n",
            "\u001b[K     |████████████████████████████████| 1.1 MB 53.8 MB/s \n",
            "\u001b[?25hRequirement already satisfied: tqdm in /usr/local/lib/python3.7/dist-packages (from umap-learn) (4.64.1)\n",
            "Requirement already satisfied: importlib-metadata in /usr/local/lib/python3.7/dist-packages (from numba>=0.49->umap-learn) (4.12.0)\n",
            "Requirement already satisfied: setuptools<60 in /usr/local/lib/python3.7/dist-packages (from numba>=0.49->umap-learn) (57.4.0)\n",
            "Requirement already satisfied: llvmlite<0.40,>=0.39.0dev0 in /usr/local/lib/python3.7/dist-packages (from numba>=0.49->umap-learn) (0.39.1)\n",
            "Requirement already satisfied: joblib>=0.11 in /usr/local/lib/python3.7/dist-packages (from pynndescent>=0.5->umap-learn) (1.1.0)\n",
            "Requirement already satisfied: threadpoolctl>=2.0.0 in /usr/local/lib/python3.7/dist-packages (from scikit-learn>=0.22->umap-learn) (3.1.0)\n",
            "Requirement already satisfied: zipp>=0.5 in /usr/local/lib/python3.7/dist-packages (from importlib-metadata->numba>=0.49->umap-learn) (3.8.1)\n",
            "Requirement already satisfied: typing-extensions>=3.6.4 in /usr/local/lib/python3.7/dist-packages (from importlib-metadata->numba>=0.49->umap-learn) (4.1.1)\n",
            "Building wheels for collected packages: umap-learn, pynndescent\n",
            "  Building wheel for umap-learn (setup.py) ... \u001b[?25l\u001b[?25hdone\n",
            "  Created wheel for umap-learn: filename=umap_learn-0.5.3-py3-none-any.whl size=82829 sha256=ba485f0cbb4fdf8474f28508702064ed4d28d1f0157b20cbf70aef2bc62f85bf\n",
            "  Stored in directory: /root/.cache/pip/wheels/b3/52/a5/1fd9e3e76a7ab34f134c07469cd6f16e27ef3a37aeff1fe821\n",
            "  Building wheel for pynndescent (setup.py) ... \u001b[?25l\u001b[?25hdone\n",
            "  Created wheel for pynndescent: filename=pynndescent-0.5.7-py3-none-any.whl size=54286 sha256=aa78f80ce763b66cd5387b18767f3a29bb4d405030a0d71d6532cd9b1c96be38\n",
            "  Stored in directory: /root/.cache/pip/wheels/7f/2a/f8/7bd5dcec71bd5c669f6f574db3113513696b98f3f9b51f496c\n",
            "Successfully built umap-learn pynndescent\n",
            "Installing collected packages: pynndescent, umap-learn\n",
            "Successfully installed pynndescent-0.5.7 umap-learn-0.5.3\n"
          ]
        }
      ],
      "source": [
        "pip install umap-learn"
      ]
    },
    {
      "cell_type": "code",
      "source": [
        "! rm colab_material.tgz"
      ],
      "metadata": {
        "id": "KIcHs6y0aMMm",
        "colab": {
          "base_uri": "https://localhost:8080/"
        },
        "outputId": "959b1ac2-65c4-4951-a4d7-d8098a1eb259"
      },
      "execution_count": 7,
      "outputs": [
        {
          "output_type": "stream",
          "name": "stdout",
          "text": [
            "rm: cannot remove 'colab_material.tgz': No such file or directory\n"
          ]
        }
      ]
    },
    {
      "cell_type": "code",
      "source": [
        "! ls data"
      ],
      "metadata": {
        "id": "DQCr0rUnaPnl",
        "outputId": "522400bf-b40f-422a-db1b-aa3ee66697f2",
        "colab": {
          "base_uri": "https://localhost:8080/"
        }
      },
      "execution_count": 12,
      "outputs": [
        {
          "output_type": "stream",
          "name": "stdout",
          "text": [
            "AmesHousing.csv  AmesHousing.txt  responses.csv\n"
          ]
        }
      ]
    },
    {
      "cell_type": "code",
      "execution_count": 8,
      "metadata": {
        "ExecuteTime": {
          "end_time": "2022-09-27T14:05:49.051625Z",
          "start_time": "2022-09-27T14:05:46.022444Z"
        },
        "id": "oes8tZkKXS1S"
      },
      "outputs": [],
      "source": [
        "import umap"
      ]
    },
    {
      "cell_type": "code",
      "execution_count": 10,
      "metadata": {
        "ExecuteTime": {
          "end_time": "2022-09-27T14:05:50.662474Z",
          "start_time": "2022-09-27T14:05:50.657850Z"
        },
        "id": "7xQIE54NmqJs"
      },
      "outputs": [],
      "source": [
        "#if not os.path.exists('data'):\n",
        "path = os.path.abspath('.')+'/colab_material.tgz'\n",
        "tf.keras.utils.get_file(path, 'https://github.com/neworldemancer/DSF5/raw/master/colab_material.tgz')\n",
        "tar = tarfile.open(path, \"r:gz\")\n",
        "tar.extractall()\n",
        "tar.close()"
      ]
    },
    {
      "cell_type": "code",
      "execution_count": 11,
      "metadata": {
        "ExecuteTime": {
          "end_time": "2022-09-26T19:22:00.451788Z",
          "start_time": "2022-09-26T19:22:00.401516Z"
        },
        "id": "atch-QcelhRy"
      },
      "outputs": [],
      "source": [
        "from utils.routines import *"
      ]
    },
    {
      "cell_type": "markdown",
      "metadata": {
        "id": "cBxkWZaLCUcR"
      },
      "source": [
        "# Datasets"
      ]
    },
    {
      "cell_type": "markdown",
      "metadata": {
        "id": "4MssLYOiCUcX"
      },
      "source": [
        "In this course we will use several synthetic and real-world datasets to illustrate the behavior of the models and exercise our skills."
      ]
    },
    {
      "cell_type": "markdown",
      "metadata": {
        "id": "8UQgU5I-lEll"
      },
      "source": [
        "## 1. Synthetic linear"
      ]
    },
    {
      "cell_type": "code",
      "execution_count": null,
      "metadata": {
        "id": "jGfWOWRjlWPa"
      },
      "outputs": [],
      "source": [
        "def get_linear(n_d=1, n_points=10, w=None, b=None, sigma=5):\n",
        "  x = np.random.uniform(0, 10, size=(n_points, n_d))\n",
        "  \n",
        "  w = w or np.random.uniform(0.1, 10, n_d)\n",
        "  b = b or np.random.uniform(-10, 10)\n",
        "  y = np.dot(x, w) + b + np.random.normal(0, sigma, size=n_points)\n",
        "\n",
        "  print('true slopes: w =', w, ';  b =', b)\n",
        "\n",
        "  return x, y"
      ]
    },
    {
      "cell_type": "code",
      "execution_count": null,
      "metadata": {
        "id": "5RLYxGy_nBZG"
      },
      "outputs": [],
      "source": [
        "x, y = get_linear(n_d=1, sigma=0)\n",
        "plt.plot(x[:, 0], y, '*')\n",
        "plt.show()"
      ]
    },
    {
      "cell_type": "code",
      "execution_count": null,
      "metadata": {
        "id": "10ODDOp4nX4S"
      },
      "outputs": [],
      "source": [
        "n_d = 2\n",
        "x, y = get_linear(n_d=n_d, n_points=100)\n",
        "\n",
        "fig = plt.figure(figsize=(8,8))\n",
        "ax = fig.add_subplot(111, projection='3d')\n",
        "ax.scatter(x[:,0], x[:,1], y, marker='x', color='b',s=40)\n",
        "plt.show()"
      ]
    },
    {
      "cell_type": "markdown",
      "metadata": {
        "id": "-2uMw5C4CUcj"
      },
      "source": [
        "## 2. House prices"
      ]
    },
    {
      "cell_type": "markdown",
      "metadata": {
        "id": "qi_Q6YTNCUcj"
      },
      "source": [
        "Subset of the Ames Houses dataset: http://jse.amstat.org/v19n3/decock.pdf"
      ]
    },
    {
      "cell_type": "code",
      "execution_count": null,
      "metadata": {
        "id": "Uj2LFlahCUcj"
      },
      "outputs": [],
      "source": [
        "def house_prices_dataset(return_df=False, price_max=400000, area_max=40000):\n",
        "  path = 'data/AmesHousing.csv'\n",
        "\n",
        "  df = pd.read_csv(path, na_values=('NaN', ''), keep_default_na=False)\n",
        "  \n",
        "  rename_dict = {k:k.replace(' ', '').replace('/', '') for k in df.keys()}\n",
        "  df.rename(columns=rename_dict, inplace=True)\n",
        "  \n",
        "  useful_fields = ['LotArea',\n",
        "                  'Utilities', 'OverallQual', 'OverallCond',\n",
        "                  'YearBuilt', 'YearRemodAdd', 'ExterQual', 'ExterCond',\n",
        "                  'HeatingQC', 'CentralAir', 'Electrical',\n",
        "                  '1stFlrSF', '2ndFlrSF','GrLivArea',\n",
        "                  'FullBath', 'HalfBath',\n",
        "                  'BedroomAbvGr', 'KitchenAbvGr', 'KitchenQual', 'TotRmsAbvGrd',\n",
        "                  'Functional','PoolArea',\n",
        "                  'YrSold', 'MoSold'\n",
        "                  ]\n",
        "  target_field = 'SalePrice'\n",
        "\n",
        "  df.dropna(axis=0, subset=useful_fields+[target_field], inplace=True)\n",
        "\n",
        "  cleanup_nums = {'Street':      {'Grvl': 0, 'Pave': 1},\n",
        "                  'LotFrontage': {'NA':0},\n",
        "                  'Alley':       {'NA':0, 'Grvl': 1, 'Pave': 2},\n",
        "                  'LotShape':    {'IR3':0, 'IR2': 1, 'IR1': 2, 'Reg':3},\n",
        "                  'Utilities':   {'ELO':0, 'NoSeWa': 1, 'NoSewr': 2, 'AllPub': 3},\n",
        "                  'LandSlope':   {'Sev':0, 'Mod': 1, 'Gtl': 3},\n",
        "                  'ExterQual':   {'Po':0, 'Fa': 1, 'TA': 2, 'Gd': 3, 'Ex':4},\n",
        "                  'ExterCond':   {'Po':0, 'Fa': 1, 'TA': 2, 'Gd': 3, 'Ex':4},\n",
        "                  'BsmtQual':    {'NA':0, 'Po':1, 'Fa': 2, 'TA': 3, 'Gd': 4, 'Ex':5},\n",
        "                  'BsmtCond':    {'NA':0, 'Po':1, 'Fa': 2, 'TA': 3, 'Gd': 4, 'Ex':5},\n",
        "                  'BsmtExposure':{'NA':0, 'No':1, 'Mn': 2, 'Av': 3, 'Gd': 4},\n",
        "                  'BsmtFinType1':{'NA':0, 'Unf':1, 'LwQ': 2, 'Rec': 3, 'BLQ': 4, 'ALQ':5, 'GLQ':6},\n",
        "                  'BsmtFinType2':{'NA':0, 'Unf':1, 'LwQ': 2, 'Rec': 3, 'BLQ': 4, 'ALQ':5, 'GLQ':6},\n",
        "                  'HeatingQC':   {'Po':0, 'Fa': 1, 'TA': 2, 'Gd': 3, 'Ex':4},\n",
        "                  'CentralAir':  {'N':0, 'Y': 1},\n",
        "                  'Electrical':  {'':0, 'NA':0, 'Mix':1, 'FuseP':2, 'FuseF': 3, 'FuseA': 4, 'SBrkr': 5},\n",
        "                  'KitchenQual': {'Po':0, 'Fa': 1, 'TA': 2, 'Gd': 3, 'Ex':4},\n",
        "                  'Functional':  {'Sal':0, 'Sev':1, 'Maj2': 2, 'Maj1': 3, 'Mod': 4, 'Min2':5, 'Min1':6, 'Typ':7},\n",
        "                  'FireplaceQu': {'NA':0, 'Po':1, 'Fa': 2, 'TA': 3, 'Gd': 4, 'Ex':5},\n",
        "                  'PoolQC':      {'NA':0, 'Fa': 1, 'TA': 2, 'Gd': 3, 'Ex':4},\n",
        "                  'Fence':       {'NA':0, 'MnWw': 1, 'GdWo': 2, 'MnPrv': 3, 'GdPrv':4},\n",
        "                  }\n",
        "\n",
        "  df_X = df[useful_fields].copy()                              \n",
        "  df_X.replace(cleanup_nums, inplace=True)  # convert continous categorial variables to numerical\n",
        "  df_Y = df[target_field].copy()\n",
        "\n",
        "  x = df_X.to_numpy().astype(np.float32)\n",
        "  y = df_Y.to_numpy().astype(np.float32)\n",
        "\n",
        "  if price_max>0:\n",
        "    idxs = y<price_max\n",
        "    x = x[idxs]\n",
        "    y = y[idxs]\n",
        "\n",
        "  if area_max>0:\n",
        "    idxs = x[:,0]<area_max\n",
        "    x = x[idxs]\n",
        "    y = y[idxs]\n",
        "\n",
        "  return (x, y, df) if return_df else (x,y)"
      ]
    },
    {
      "cell_type": "code",
      "execution_count": null,
      "metadata": {
        "id": "-jcX7oYDFwzQ"
      },
      "outputs": [],
      "source": [
        "def house_prices_dataset_normed():\n",
        "    x, y = house_prices_dataset(return_df=False, price_max=-1, area_max=-1)\n",
        "    \n",
        "    scaler=StandardScaler()\n",
        "    features_scaled=scaler.fit_transform(x)\n",
        "    \n",
        "    return features_scaled"
      ]
    },
    {
      "cell_type": "code",
      "execution_count": null,
      "metadata": {
        "id": "YqWU0eHts1RM"
      },
      "outputs": [],
      "source": [
        "x, y, df = house_prices_dataset(return_df=True)\n",
        "print(x.shape, y.shape)\n",
        "df.head()"
      ]
    },
    {
      "cell_type": "code",
      "execution_count": null,
      "metadata": {
        "id": "91nj7znzMEpA"
      },
      "outputs": [],
      "source": [
        "plt.plot(x[:, 0], y, '.')\n",
        "plt.xlabel('area, sq.ft')\n",
        "plt.ylabel('price, $');\n",
        "plt.show()"
      ]
    },
    {
      "cell_type": "markdown",
      "metadata": {
        "id": "q7CNxkPdNB4L"
      },
      "source": [
        "## 3. Blobs"
      ]
    },
    {
      "cell_type": "code",
      "execution_count": null,
      "metadata": {
        "id": "j8wXhleONKgZ"
      },
      "outputs": [],
      "source": [
        "x, y = make_blobs(n_samples=1000, centers=[[0,0], [5,5], [10, 0]])\n",
        "colors = \"ygr\"\n",
        "for i, color in enumerate(colors):\n",
        "    idx = y == i\n",
        "    plt.scatter(x[idx, 0], x[idx, 1], c=color, edgecolor='gray', s=25)\n",
        "plt.show()"
      ]
    },
    {
      "cell_type": "markdown",
      "metadata": {
        "id": "8S1jwU4cXQX4"
      },
      "source": [
        "## 4. MNIST"
      ]
    },
    {
      "cell_type": "markdown",
      "metadata": {
        "id": "e2u82UQ5XQX4"
      },
      "source": [
        "The MNIST database of handwritten digits has a training set of 60,000 examples, and a test set of 10,000 examples. The digits have been size-normalized and centered in a fixed-size image.\n",
        "It is a good database for people who want to try learning techniques and pattern recognition methods on real-world data while spending minimal efforts on preprocessing and formatting (taken from http://yann.lecun.com/exdb/mnist/). Each example is a 28x28 grayscale image and the dataset can be readily downloaded from Tensorflow."
      ]
    },
    {
      "cell_type": "code",
      "execution_count": null,
      "metadata": {
        "id": "JaNaGGOkXQX5"
      },
      "outputs": [],
      "source": [
        "mnist = tf.keras.datasets.mnist\n",
        "(train_images, train_labels), (test_images, test_labels) = mnist.load_data()"
      ]
    },
    {
      "cell_type": "markdown",
      "metadata": {
        "id": "dlUY5gl8XQX7"
      },
      "source": [
        "Let's check few samples:"
      ]
    },
    {
      "cell_type": "code",
      "execution_count": null,
      "metadata": {
        "id": "qtYtGEDdXQX8"
      },
      "outputs": [],
      "source": [
        "n = 3\n",
        "fig, ax = plt.subplots(n, n, figsize=(2*n, 2*n))\n",
        "ax = [ax_xy for ax_y in ax for ax_xy in ax_y]\n",
        "for axi, im_idx in zip(ax, np.random.choice(len(train_images), n**2)):\n",
        "  im = train_images[im_idx]\n",
        "  im_class = train_labels[im_idx]\n",
        "  axi.imshow(im, cmap='gray')\n",
        "  axi.text(1, 4, f'{im_class}', color='r', size=16)\n",
        "  axi.grid(False)\n",
        "plt.tight_layout(0,0,0)\n",
        "plt.show()"
      ]
    },
    {
      "cell_type": "markdown",
      "metadata": {
        "id": "5MXcNBOBCUcy"
      },
      "source": [
        "## 5. Fashion MNIST"
      ]
    },
    {
      "cell_type": "markdown",
      "metadata": {
        "id": "rANzstLwCUcy"
      },
      "source": [
        "`Fashion-MNIST` is a dataset of Zalando's article images—consisting of a training set of 60,000 examples and a test set of 10,000 examples. Each example is a 28x28 grayscale image, associated with a label from 10 classes. (from https://github.com/zalandoresearch/fashion-mnist)"
      ]
    },
    {
      "cell_type": "code",
      "execution_count": null,
      "metadata": {
        "id": "Woc5ld-HCUcz"
      },
      "outputs": [],
      "source": [
        "fashion_mnist = tf.keras.datasets.fashion_mnist\n",
        "(train_images, train_labels), (test_images, test_labels) = fashion_mnist.load_data()"
      ]
    },
    {
      "cell_type": "markdown",
      "metadata": {
        "id": "FH2G-FAHCUc1"
      },
      "source": [
        "Let's check few samples:"
      ]
    },
    {
      "cell_type": "code",
      "execution_count": null,
      "metadata": {
        "id": "90EhR8nmCUc1"
      },
      "outputs": [],
      "source": [
        "n = 3\n",
        "fig, ax = plt.subplots(n, n, figsize=(2*n, 2*n))\n",
        "ax = [ax_xy for ax_y in ax for ax_xy in ax_y]\n",
        "for axi, im_idx in zip(ax, np.random.choice(len(train_images), n**2)):\n",
        "  im = train_images[im_idx]\n",
        "  im_class = train_labels[im_idx]\n",
        "  axi.imshow(im, cmap='gray')\n",
        "  axi.text(1, 4, f'{im_class}', color='r', size=16)\n",
        "  axi.grid(False)\n",
        "plt.tight_layout(0,0,0)\n",
        "plt.show()"
      ]
    },
    {
      "cell_type": "markdown",
      "metadata": {
        "id": "xeaJnq9hCUc3"
      },
      "source": [
        "Each of the training and test examples is assigned to one of the following labels:\n",
        "\n",
        "| Label | Description |\n",
        "| --- | --- |\n",
        "| 0 | T-shirt/top |\n",
        "| 1 | Trouser |\n",
        "| 2 | Pullover |\n",
        "| 3 | Dress |\n",
        "| 4 | Coat |\n",
        "| 5 | Sandal |\n",
        "| 6 | Shirt |\n",
        "| 7 | Sneaker |\n",
        "| 8 | Bag |\n",
        "| 9 | Ankle boot |"
      ]
    },
    {
      "cell_type": "markdown",
      "metadata": {
        "id": "s_wxOrdWko8W"
      },
      "source": [
        "In this course we will use several synthetic and real-world datasets to illustrate the behavior of the models and exercise our skills."
      ]
    },
    {
      "cell_type": "markdown",
      "metadata": {
        "id": "x2NWxK0BFwyw"
      },
      "source": [
        "## 6. Weather dataset"
      ]
    },
    {
      "cell_type": "markdown",
      "metadata": {
        "id": "LKsTkrMkGB7d"
      },
      "source": [
        "This is a weather time series [dataset](https://www.bgc-jena.mpg.de/wetter/) recorded by the Max Planck Institute for Biogeochemistry \n",
        "It contains weather reacord for 8 years of observation."
      ]
    },
    {
      "cell_type": "code",
      "execution_count": null,
      "metadata": {
        "id": "D_bXLpwxGTbZ"
      },
      "outputs": [],
      "source": [
        "def get_weather_df():\n",
        "  # inspired by https://www.tensorflow.org/tutorials/structured_data/time_series\n",
        "\n",
        "  # download and extract dataset\n",
        "  zip_path = tf.keras.utils.get_file(\n",
        "    origin='https://storage.googleapis.com/tensorflow/tf-keras-datasets/jena_climate_2009_2016.csv.zip',\n",
        "    fname='jena_climate_2009_2016.csv.zip',\n",
        "    extract=True)\n",
        "  csv_path, _ = os.path.splitext(zip_path)\n",
        "\n",
        "  # load into pandas df\n",
        "  df = pd.read_csv(csv_path)\n",
        "  \n",
        "  # dataset contains records every 10 min, we use hourly records only, thus\n",
        "  # slice [start:stop:step], starting from index 5 take every 6th record\n",
        "  df = df[5::6]\n",
        "\n",
        "  # replace errors in wind velocity to 0\n",
        "  wv = df['wv (m/s)']\n",
        "  bad_wv = wv == -9999.0\n",
        "  wv[bad_wv] = 0.0\n",
        "\n",
        "  max_wv = df['max. wv (m/s)']\n",
        "  bad_max_wv = max_wv == -9999.0\n",
        "  max_wv[bad_max_wv] = 0.0\n",
        "\n",
        "  # obtain timestamps from text time format\n",
        "  date_time = pd.to_datetime(df.pop('Date Time'), format='%d.%m.%Y %H:%M:%S')\n",
        "  timestamp_s = date_time.map(pd.Timestamp.timestamp)\n",
        "  # genarate cyclic features for year and day\n",
        "  day = 24*60*60\n",
        "  year = (365.2425) * day\n",
        "\n",
        "  df['Day sin'] = np.sin(timestamp_s * (2 * np.pi / day))\n",
        "  df['Day cos'] = np.cos(timestamp_s * (2 * np.pi / day))\n",
        "  df['Year sin'] = np.sin(timestamp_s * (2 * np.pi / year))\n",
        "  df['Year cos'] = np.cos(timestamp_s * (2 * np.pi / year))\n",
        "\n",
        "  return df"
      ]
    },
    {
      "cell_type": "code",
      "execution_count": null,
      "metadata": {
        "id": "DsYDOZZKI7_P"
      },
      "outputs": [],
      "source": [
        "weather_df = get_weather_df()"
      ]
    },
    {
      "cell_type": "code",
      "execution_count": null,
      "metadata": {
        "id": "yQHfhrBMJA5w"
      },
      "outputs": [],
      "source": [
        "weather_df.head()"
      ]
    },
    {
      "cell_type": "code",
      "execution_count": null,
      "metadata": {
        "id": "wPUvJcY3JjJa"
      },
      "outputs": [],
      "source": [
        "weather_df.describe().T"
      ]
    },
    {
      "cell_type": "code",
      "execution_count": null,
      "metadata": {
        "id": "T7qIhgZuMGW4"
      },
      "outputs": [],
      "source": [
        "plt.plot(weather_df['Year cos'])\n",
        "plt.plot(weather_df['Year sin'])"
      ]
    },
    {
      "cell_type": "code",
      "execution_count": null,
      "metadata": {
        "id": "WxziDnFwLqL0"
      },
      "outputs": [],
      "source": [
        "plt.plot(weather_df['Day cos'][:7*24])\n",
        "plt.plot(weather_df['Day sin'][:7*24])"
      ]
    },
    {
      "cell_type": "code",
      "execution_count": null,
      "metadata": {
        "id": "tDQkIP4cJxuW"
      },
      "outputs": [],
      "source": [
        "def gen_future_T_dataset(X_len=24, Y_offset=48,\n",
        "                         X_features=['p (mbar)', 'T (degC)', 'rh (%)', 'wv (m/s)', 'wd (deg)', 'Day sin', 'Day cos', 'Year sin', 'Year cos'],\n",
        "                         Y_features='T (degC)',\n",
        "                         standardize=True,\n",
        "                         oversample=10\n",
        "                         ):\n",
        "  \"\"\"\n",
        "  Generates pairs of input-label, using sequence of `X_len` samples as input\n",
        "  and value at offset `Y_offset` from start of this sequence as label.\n",
        "  Sample sequnces arte taken at random positions throughout the dataset.\n",
        "  Number of samples is obtained assuming non-overlaping wondows.\n",
        "  Oversampling factor allows to increase this value.\n",
        "\n",
        "  Args:\n",
        "    X_len (int): length of sample sequence\n",
        "    Y_offset (int): offset to the target value from the sequence start\n",
        "    X_features (list or str): features to be used as input\n",
        "    Y_features (list or str): features to be used as labels\n",
        "    standardize (Bool): flag whether to standardize the columns\n",
        "    oversample (int): increases number of samples by this factor wrt baseline\n",
        "                      n = len(df) // (Y_offset+1)\n",
        "  \"\"\"\n",
        "  weather_df = get_weather_df()\n",
        "\n",
        "  if standardize:\n",
        "    mean = weather_df.mean()\n",
        "    std = weather_df.std()\n",
        "    weather_df = (weather_df - mean) / std\n",
        "  \n",
        "  df_X = weather_df[X_features]\n",
        "  df_Y = weather_df[Y_features]\n",
        "\n",
        "  n_records = len(df_X)\n",
        "  sample_len = Y_offset+1\n",
        "  n_samples = int((n_records-sample_len)//sample_len*oversample)\n",
        "  offsets = np.random.randint(0, n_records-sample_len, size=n_samples)\n",
        "  offsets.sort()\n",
        "\n",
        "  X = []\n",
        "  Y = []\n",
        "  for o in offsets:\n",
        "    X.append(np.array(df_X[o:o+X_len]))\n",
        "    Y.append(np.array(df_Y[o+Y_offset:o+Y_offset+1]))\n",
        "\n",
        "  X = np.stack(X)\n",
        "  Y = np.concatenate(Y)\n",
        "\n",
        "  return X, Y"
      ]
    },
    {
      "cell_type": "code",
      "execution_count": null,
      "metadata": {
        "id": "m-uVf1AOPLIT"
      },
      "outputs": [],
      "source": [
        "x, y = gen_future_T_dataset()"
      ]
    },
    {
      "cell_type": "code",
      "execution_count": null,
      "metadata": {
        "id": "m2f1pWLfPbJG"
      },
      "outputs": [],
      "source": [
        "x.shape, y.shape"
      ]
    },
    {
      "cell_type": "code",
      "execution_count": null,
      "metadata": {
        "id": "JJU5MRbdRDEI"
      },
      "outputs": [],
      "source": [
        "for f,fn in enumerate(['p (mbar)', 'T (degC)', 'rh (%)', 'wv (m/s)', 'wd (deg)', 'Day sin', 'Day cos', 'Year sin', 'Year cos']):\n",
        "  plt.figure(figsize=(5*(1+(f==1)), 4))\n",
        "  for s in range(10):\n",
        "    plt.plot(x[s, :, f])\n",
        "    if f==1:\n",
        "      plt.scatter(48, y[s], color=plt.gca().lines[-1].get_color())\n",
        "  plt.title(fn)\n",
        "  plt.show()"
      ]
    },
    {
      "cell_type": "markdown",
      "metadata": {
        "id": "F9ARiWSS91kO"
      },
      "source": [
        "# 1. Unsupervised Learning Techniques\n"
      ]
    },
    {
      "cell_type": "markdown",
      "metadata": {
        "id": "lSF2oCSuYVf4"
      },
      "source": [
        "Unsupervised learning technique different from supervised ones from the fact that data are not labelled.\n",
        "\n",
        "We do not aim at fitting a mapping from $X$ to $y$, but to understand pattern in the data cloud $X$."
      ]
    },
    {
      "cell_type": "markdown",
      "metadata": {
        "id": "afROKfT591kS"
      },
      "source": [
        "## 1. Principal Component Analysis (PCA)"
      ]
    },
    {
      "cell_type": "markdown",
      "metadata": {
        "id": "Y3OjS-_VYVf4"
      },
      "source": [
        "Let's start with the example that we will use to make the theory more concrete. We will take a dataset from from kaggle https://www.kaggle.com/datasets/miroslavsabo/young-people-survey?resource=download (already downloaded for you in the folder `data`)\n",
        "\n",
        "The datasets consists of the results of a survey about the music preferences of several students, arriving at the following dataset:"
      ]
    },
    {
      "cell_type": "code",
      "execution_count": 13,
      "metadata": {
        "ExecuteTime": {
          "end_time": "2022-09-27T14:09:42.322377Z",
          "start_time": "2022-09-27T14:09:42.283713Z"
        },
        "id": "fdpTfsKhYVf5"
      },
      "outputs": [],
      "source": [
        "data=pd.read_csv(\"data/responses.csv\")"
      ]
    },
    {
      "cell_type": "code",
      "execution_count": 14,
      "metadata": {
        "id": "JTDQQPJKYVf5",
        "colab": {
          "base_uri": "https://localhost:8080/",
          "height": 710
        },
        "outputId": "60228c50-709c-40ca-c60a-00c11a44cbe5"
      },
      "outputs": [
        {
          "output_type": "execute_result",
          "data": {
            "text/plain": [
              "      Music  Slow songs or fast songs  Dance  Folk  Country  Classical music  \\\n",
              "0       5.0                       3.0    2.0   1.0      2.0              2.0   \n",
              "1       4.0                       4.0    2.0   1.0      1.0              1.0   \n",
              "2       5.0                       5.0    2.0   2.0      3.0              4.0   \n",
              "3       5.0                       3.0    2.0   1.0      1.0              1.0   \n",
              "4       5.0                       3.0    4.0   3.0      2.0              4.0   \n",
              "...     ...                       ...    ...   ...      ...              ...   \n",
              "1005    5.0                       2.0    5.0   2.0      2.0              5.0   \n",
              "1006    4.0                       4.0    5.0   1.0      3.0              4.0   \n",
              "1007    4.0                       3.0    1.0   1.0      2.0              2.0   \n",
              "1008    5.0                       3.0    3.0   3.0      1.0              3.0   \n",
              "1009    5.0                       5.0    4.0   3.0      2.0              3.0   \n",
              "\n",
              "      Musical  Pop  Rock  Metal or Hardrock  ...   Age  Height  Weight  \\\n",
              "0         1.0  5.0   5.0                1.0  ...  20.0   163.0    48.0   \n",
              "1         2.0  3.0   5.0                4.0  ...  19.0   163.0    58.0   \n",
              "2         5.0  3.0   5.0                3.0  ...  20.0   176.0    67.0   \n",
              "3         1.0  2.0   2.0                1.0  ...  22.0   172.0    59.0   \n",
              "4         3.0  5.0   3.0                1.0  ...  20.0   170.0    59.0   \n",
              "...       ...  ...   ...                ...  ...   ...     ...     ...   \n",
              "1005      4.0  4.0   4.0                3.0  ...  20.0   164.0    57.0   \n",
              "1006      1.0  4.0   1.0                1.0  ...  27.0   183.0    80.0   \n",
              "1007      2.0  3.0   4.0                1.0  ...  18.0   173.0    75.0   \n",
              "1008      1.0  3.0   4.0                1.0  ...  25.0   173.0    58.0   \n",
              "1009      3.0  4.0   1.0                1.0  ...  21.0   185.0    72.0   \n",
              "\n",
              "      Number of siblings  Gender  Left - right handed  \\\n",
              "0                    1.0  female         right handed   \n",
              "1                    2.0  female         right handed   \n",
              "2                    2.0  female         right handed   \n",
              "3                    1.0  female         right handed   \n",
              "4                    1.0  female         right handed   \n",
              "...                  ...     ...                  ...   \n",
              "1005                 1.0  female         right handed   \n",
              "1006                 5.0    male          left handed   \n",
              "1007                 0.0  female         right handed   \n",
              "1008                 1.0  female         right handed   \n",
              "1009                 1.0    male         right handed   \n",
              "\n",
              "                    Education  Only child  Village - town  \\\n",
              "0     college/bachelor degree          no         village   \n",
              "1     college/bachelor degree          no            city   \n",
              "2            secondary school          no            city   \n",
              "3     college/bachelor degree         yes            city   \n",
              "4            secondary school          no         village   \n",
              "...                       ...         ...             ...   \n",
              "1005         secondary school          no            city   \n",
              "1006           masters degree          no         village   \n",
              "1007         secondary school         yes            city   \n",
              "1008  college/bachelor degree          no            city   \n",
              "1009         secondary school          no         village   \n",
              "\n",
              "      House - block of flats  \n",
              "0             block of flats  \n",
              "1             block of flats  \n",
              "2             block of flats  \n",
              "3             house/bungalow  \n",
              "4             house/bungalow  \n",
              "...                      ...  \n",
              "1005          house/bungalow  \n",
              "1006          house/bungalow  \n",
              "1007          block of flats  \n",
              "1008          block of flats  \n",
              "1009          house/bungalow  \n",
              "\n",
              "[1010 rows x 150 columns]"
            ],
            "text/html": [
              "\n",
              "  <div id=\"df-5dd18277-420d-4358-9e4c-1c759aa338ef\">\n",
              "    <div class=\"colab-df-container\">\n",
              "      <div>\n",
              "<style scoped>\n",
              "    .dataframe tbody tr th:only-of-type {\n",
              "        vertical-align: middle;\n",
              "    }\n",
              "\n",
              "    .dataframe tbody tr th {\n",
              "        vertical-align: top;\n",
              "    }\n",
              "\n",
              "    .dataframe thead th {\n",
              "        text-align: right;\n",
              "    }\n",
              "</style>\n",
              "<table border=\"1\" class=\"dataframe\">\n",
              "  <thead>\n",
              "    <tr style=\"text-align: right;\">\n",
              "      <th></th>\n",
              "      <th>Music</th>\n",
              "      <th>Slow songs or fast songs</th>\n",
              "      <th>Dance</th>\n",
              "      <th>Folk</th>\n",
              "      <th>Country</th>\n",
              "      <th>Classical music</th>\n",
              "      <th>Musical</th>\n",
              "      <th>Pop</th>\n",
              "      <th>Rock</th>\n",
              "      <th>Metal or Hardrock</th>\n",
              "      <th>...</th>\n",
              "      <th>Age</th>\n",
              "      <th>Height</th>\n",
              "      <th>Weight</th>\n",
              "      <th>Number of siblings</th>\n",
              "      <th>Gender</th>\n",
              "      <th>Left - right handed</th>\n",
              "      <th>Education</th>\n",
              "      <th>Only child</th>\n",
              "      <th>Village - town</th>\n",
              "      <th>House - block of flats</th>\n",
              "    </tr>\n",
              "  </thead>\n",
              "  <tbody>\n",
              "    <tr>\n",
              "      <th>0</th>\n",
              "      <td>5.0</td>\n",
              "      <td>3.0</td>\n",
              "      <td>2.0</td>\n",
              "      <td>1.0</td>\n",
              "      <td>2.0</td>\n",
              "      <td>2.0</td>\n",
              "      <td>1.0</td>\n",
              "      <td>5.0</td>\n",
              "      <td>5.0</td>\n",
              "      <td>1.0</td>\n",
              "      <td>...</td>\n",
              "      <td>20.0</td>\n",
              "      <td>163.0</td>\n",
              "      <td>48.0</td>\n",
              "      <td>1.0</td>\n",
              "      <td>female</td>\n",
              "      <td>right handed</td>\n",
              "      <td>college/bachelor degree</td>\n",
              "      <td>no</td>\n",
              "      <td>village</td>\n",
              "      <td>block of flats</td>\n",
              "    </tr>\n",
              "    <tr>\n",
              "      <th>1</th>\n",
              "      <td>4.0</td>\n",
              "      <td>4.0</td>\n",
              "      <td>2.0</td>\n",
              "      <td>1.0</td>\n",
              "      <td>1.0</td>\n",
              "      <td>1.0</td>\n",
              "      <td>2.0</td>\n",
              "      <td>3.0</td>\n",
              "      <td>5.0</td>\n",
              "      <td>4.0</td>\n",
              "      <td>...</td>\n",
              "      <td>19.0</td>\n",
              "      <td>163.0</td>\n",
              "      <td>58.0</td>\n",
              "      <td>2.0</td>\n",
              "      <td>female</td>\n",
              "      <td>right handed</td>\n",
              "      <td>college/bachelor degree</td>\n",
              "      <td>no</td>\n",
              "      <td>city</td>\n",
              "      <td>block of flats</td>\n",
              "    </tr>\n",
              "    <tr>\n",
              "      <th>2</th>\n",
              "      <td>5.0</td>\n",
              "      <td>5.0</td>\n",
              "      <td>2.0</td>\n",
              "      <td>2.0</td>\n",
              "      <td>3.0</td>\n",
              "      <td>4.0</td>\n",
              "      <td>5.0</td>\n",
              "      <td>3.0</td>\n",
              "      <td>5.0</td>\n",
              "      <td>3.0</td>\n",
              "      <td>...</td>\n",
              "      <td>20.0</td>\n",
              "      <td>176.0</td>\n",
              "      <td>67.0</td>\n",
              "      <td>2.0</td>\n",
              "      <td>female</td>\n",
              "      <td>right handed</td>\n",
              "      <td>secondary school</td>\n",
              "      <td>no</td>\n",
              "      <td>city</td>\n",
              "      <td>block of flats</td>\n",
              "    </tr>\n",
              "    <tr>\n",
              "      <th>3</th>\n",
              "      <td>5.0</td>\n",
              "      <td>3.0</td>\n",
              "      <td>2.0</td>\n",
              "      <td>1.0</td>\n",
              "      <td>1.0</td>\n",
              "      <td>1.0</td>\n",
              "      <td>1.0</td>\n",
              "      <td>2.0</td>\n",
              "      <td>2.0</td>\n",
              "      <td>1.0</td>\n",
              "      <td>...</td>\n",
              "      <td>22.0</td>\n",
              "      <td>172.0</td>\n",
              "      <td>59.0</td>\n",
              "      <td>1.0</td>\n",
              "      <td>female</td>\n",
              "      <td>right handed</td>\n",
              "      <td>college/bachelor degree</td>\n",
              "      <td>yes</td>\n",
              "      <td>city</td>\n",
              "      <td>house/bungalow</td>\n",
              "    </tr>\n",
              "    <tr>\n",
              "      <th>4</th>\n",
              "      <td>5.0</td>\n",
              "      <td>3.0</td>\n",
              "      <td>4.0</td>\n",
              "      <td>3.0</td>\n",
              "      <td>2.0</td>\n",
              "      <td>4.0</td>\n",
              "      <td>3.0</td>\n",
              "      <td>5.0</td>\n",
              "      <td>3.0</td>\n",
              "      <td>1.0</td>\n",
              "      <td>...</td>\n",
              "      <td>20.0</td>\n",
              "      <td>170.0</td>\n",
              "      <td>59.0</td>\n",
              "      <td>1.0</td>\n",
              "      <td>female</td>\n",
              "      <td>right handed</td>\n",
              "      <td>secondary school</td>\n",
              "      <td>no</td>\n",
              "      <td>village</td>\n",
              "      <td>house/bungalow</td>\n",
              "    </tr>\n",
              "    <tr>\n",
              "      <th>...</th>\n",
              "      <td>...</td>\n",
              "      <td>...</td>\n",
              "      <td>...</td>\n",
              "      <td>...</td>\n",
              "      <td>...</td>\n",
              "      <td>...</td>\n",
              "      <td>...</td>\n",
              "      <td>...</td>\n",
              "      <td>...</td>\n",
              "      <td>...</td>\n",
              "      <td>...</td>\n",
              "      <td>...</td>\n",
              "      <td>...</td>\n",
              "      <td>...</td>\n",
              "      <td>...</td>\n",
              "      <td>...</td>\n",
              "      <td>...</td>\n",
              "      <td>...</td>\n",
              "      <td>...</td>\n",
              "      <td>...</td>\n",
              "      <td>...</td>\n",
              "    </tr>\n",
              "    <tr>\n",
              "      <th>1005</th>\n",
              "      <td>5.0</td>\n",
              "      <td>2.0</td>\n",
              "      <td>5.0</td>\n",
              "      <td>2.0</td>\n",
              "      <td>2.0</td>\n",
              "      <td>5.0</td>\n",
              "      <td>4.0</td>\n",
              "      <td>4.0</td>\n",
              "      <td>4.0</td>\n",
              "      <td>3.0</td>\n",
              "      <td>...</td>\n",
              "      <td>20.0</td>\n",
              "      <td>164.0</td>\n",
              "      <td>57.0</td>\n",
              "      <td>1.0</td>\n",
              "      <td>female</td>\n",
              "      <td>right handed</td>\n",
              "      <td>secondary school</td>\n",
              "      <td>no</td>\n",
              "      <td>city</td>\n",
              "      <td>house/bungalow</td>\n",
              "    </tr>\n",
              "    <tr>\n",
              "      <th>1006</th>\n",
              "      <td>4.0</td>\n",
              "      <td>4.0</td>\n",
              "      <td>5.0</td>\n",
              "      <td>1.0</td>\n",
              "      <td>3.0</td>\n",
              "      <td>4.0</td>\n",
              "      <td>1.0</td>\n",
              "      <td>4.0</td>\n",
              "      <td>1.0</td>\n",
              "      <td>1.0</td>\n",
              "      <td>...</td>\n",
              "      <td>27.0</td>\n",
              "      <td>183.0</td>\n",
              "      <td>80.0</td>\n",
              "      <td>5.0</td>\n",
              "      <td>male</td>\n",
              "      <td>left handed</td>\n",
              "      <td>masters degree</td>\n",
              "      <td>no</td>\n",
              "      <td>village</td>\n",
              "      <td>house/bungalow</td>\n",
              "    </tr>\n",
              "    <tr>\n",
              "      <th>1007</th>\n",
              "      <td>4.0</td>\n",
              "      <td>3.0</td>\n",
              "      <td>1.0</td>\n",
              "      <td>1.0</td>\n",
              "      <td>2.0</td>\n",
              "      <td>2.0</td>\n",
              "      <td>2.0</td>\n",
              "      <td>3.0</td>\n",
              "      <td>4.0</td>\n",
              "      <td>1.0</td>\n",
              "      <td>...</td>\n",
              "      <td>18.0</td>\n",
              "      <td>173.0</td>\n",
              "      <td>75.0</td>\n",
              "      <td>0.0</td>\n",
              "      <td>female</td>\n",
              "      <td>right handed</td>\n",
              "      <td>secondary school</td>\n",
              "      <td>yes</td>\n",
              "      <td>city</td>\n",
              "      <td>block of flats</td>\n",
              "    </tr>\n",
              "    <tr>\n",
              "      <th>1008</th>\n",
              "      <td>5.0</td>\n",
              "      <td>3.0</td>\n",
              "      <td>3.0</td>\n",
              "      <td>3.0</td>\n",
              "      <td>1.0</td>\n",
              "      <td>3.0</td>\n",
              "      <td>1.0</td>\n",
              "      <td>3.0</td>\n",
              "      <td>4.0</td>\n",
              "      <td>1.0</td>\n",
              "      <td>...</td>\n",
              "      <td>25.0</td>\n",
              "      <td>173.0</td>\n",
              "      <td>58.0</td>\n",
              "      <td>1.0</td>\n",
              "      <td>female</td>\n",
              "      <td>right handed</td>\n",
              "      <td>college/bachelor degree</td>\n",
              "      <td>no</td>\n",
              "      <td>city</td>\n",
              "      <td>block of flats</td>\n",
              "    </tr>\n",
              "    <tr>\n",
              "      <th>1009</th>\n",
              "      <td>5.0</td>\n",
              "      <td>5.0</td>\n",
              "      <td>4.0</td>\n",
              "      <td>3.0</td>\n",
              "      <td>2.0</td>\n",
              "      <td>3.0</td>\n",
              "      <td>3.0</td>\n",
              "      <td>4.0</td>\n",
              "      <td>1.0</td>\n",
              "      <td>1.0</td>\n",
              "      <td>...</td>\n",
              "      <td>21.0</td>\n",
              "      <td>185.0</td>\n",
              "      <td>72.0</td>\n",
              "      <td>1.0</td>\n",
              "      <td>male</td>\n",
              "      <td>right handed</td>\n",
              "      <td>secondary school</td>\n",
              "      <td>no</td>\n",
              "      <td>village</td>\n",
              "      <td>house/bungalow</td>\n",
              "    </tr>\n",
              "  </tbody>\n",
              "</table>\n",
              "<p>1010 rows × 150 columns</p>\n",
              "</div>\n",
              "      <button class=\"colab-df-convert\" onclick=\"convertToInteractive('df-5dd18277-420d-4358-9e4c-1c759aa338ef')\"\n",
              "              title=\"Convert this dataframe to an interactive table.\"\n",
              "              style=\"display:none;\">\n",
              "        \n",
              "  <svg xmlns=\"http://www.w3.org/2000/svg\" height=\"24px\"viewBox=\"0 0 24 24\"\n",
              "       width=\"24px\">\n",
              "    <path d=\"M0 0h24v24H0V0z\" fill=\"none\"/>\n",
              "    <path d=\"M18.56 5.44l.94 2.06.94-2.06 2.06-.94-2.06-.94-.94-2.06-.94 2.06-2.06.94zm-11 1L8.5 8.5l.94-2.06 2.06-.94-2.06-.94L8.5 2.5l-.94 2.06-2.06.94zm10 10l.94 2.06.94-2.06 2.06-.94-2.06-.94-.94-2.06-.94 2.06-2.06.94z\"/><path d=\"M17.41 7.96l-1.37-1.37c-.4-.4-.92-.59-1.43-.59-.52 0-1.04.2-1.43.59L10.3 9.45l-7.72 7.72c-.78.78-.78 2.05 0 2.83L4 21.41c.39.39.9.59 1.41.59.51 0 1.02-.2 1.41-.59l7.78-7.78 2.81-2.81c.8-.78.8-2.07 0-2.86zM5.41 20L4 18.59l7.72-7.72 1.47 1.35L5.41 20z\"/>\n",
              "  </svg>\n",
              "      </button>\n",
              "      \n",
              "  <style>\n",
              "    .colab-df-container {\n",
              "      display:flex;\n",
              "      flex-wrap:wrap;\n",
              "      gap: 12px;\n",
              "    }\n",
              "\n",
              "    .colab-df-convert {\n",
              "      background-color: #E8F0FE;\n",
              "      border: none;\n",
              "      border-radius: 50%;\n",
              "      cursor: pointer;\n",
              "      display: none;\n",
              "      fill: #1967D2;\n",
              "      height: 32px;\n",
              "      padding: 0 0 0 0;\n",
              "      width: 32px;\n",
              "    }\n",
              "\n",
              "    .colab-df-convert:hover {\n",
              "      background-color: #E2EBFA;\n",
              "      box-shadow: 0px 1px 2px rgba(60, 64, 67, 0.3), 0px 1px 3px 1px rgba(60, 64, 67, 0.15);\n",
              "      fill: #174EA6;\n",
              "    }\n",
              "\n",
              "    [theme=dark] .colab-df-convert {\n",
              "      background-color: #3B4455;\n",
              "      fill: #D2E3FC;\n",
              "    }\n",
              "\n",
              "    [theme=dark] .colab-df-convert:hover {\n",
              "      background-color: #434B5C;\n",
              "      box-shadow: 0px 1px 3px 1px rgba(0, 0, 0, 0.15);\n",
              "      filter: drop-shadow(0px 1px 2px rgba(0, 0, 0, 0.3));\n",
              "      fill: #FFFFFF;\n",
              "    }\n",
              "  </style>\n",
              "\n",
              "      <script>\n",
              "        const buttonEl =\n",
              "          document.querySelector('#df-5dd18277-420d-4358-9e4c-1c759aa338ef button.colab-df-convert');\n",
              "        buttonEl.style.display =\n",
              "          google.colab.kernel.accessAllowed ? 'block' : 'none';\n",
              "\n",
              "        async function convertToInteractive(key) {\n",
              "          const element = document.querySelector('#df-5dd18277-420d-4358-9e4c-1c759aa338ef');\n",
              "          const dataTable =\n",
              "            await google.colab.kernel.invokeFunction('convertToInteractive',\n",
              "                                                     [key], {});\n",
              "          if (!dataTable) return;\n",
              "\n",
              "          const docLinkHtml = 'Like what you see? Visit the ' +\n",
              "            '<a target=\"_blank\" href=https://colab.research.google.com/notebooks/data_table.ipynb>data table notebook</a>'\n",
              "            + ' to learn more about interactive tables.';\n",
              "          element.innerHTML = '';\n",
              "          dataTable['output_type'] = 'display_data';\n",
              "          await google.colab.output.renderOutput(dataTable, element);\n",
              "          const docLink = document.createElement('div');\n",
              "          docLink.innerHTML = docLinkHtml;\n",
              "          element.appendChild(docLink);\n",
              "        }\n",
              "      </script>\n",
              "    </div>\n",
              "  </div>\n",
              "  "
            ]
          },
          "metadata": {},
          "execution_count": 14
        }
      ],
      "source": [
        "data"
      ]
    },
    {
      "cell_type": "code",
      "execution_count": 15,
      "metadata": {
        "id": "47q7jH-DYVf5",
        "colab": {
          "base_uri": "https://localhost:8080/"
        },
        "outputId": "c644bc14-f24b-4b1c-97eb-a2567f039f59"
      },
      "outputs": [
        {
          "output_type": "stream",
          "name": "stdout",
          "text": [
            "Index(['Music', 'Slow songs or fast songs', 'Dance', 'Folk', 'Country',\n",
            "       'Classical music', 'Musical', 'Pop', 'Rock', 'Metal or Hardrock',\n",
            "       'Punk', 'Hiphop, Rap', 'Reggae, Ska', 'Swing, Jazz', 'Rock n roll',\n",
            "       'Alternative', 'Latino', 'Techno, Trance', 'Opera'],\n",
            "      dtype='object')\n"
          ]
        }
      ],
      "source": [
        "music_columns=data.columns[:19]\n",
        "print(music_columns)\n",
        "music_data=data[music_columns].dropna()"
      ]
    },
    {
      "cell_type": "markdown",
      "metadata": {
        "id": "1cpjpMf8YVf5"
      },
      "source": [
        "The answers are of course correlated and we expect to have typical patterns recurring, that we define as people liking similar types of songs. \n",
        "\n",
        "The patterns may be also mixing, for e.g. a class of people may like classic `Pop` and `Reggae`, but not `Latino`. An other class may like `Latino` and `Reggae`, but not `Pop`."
      ]
    },
    {
      "cell_type": "markdown",
      "metadata": {
        "id": "HK_198t6YVf6"
      },
      "source": [
        "PCA will help to find these typical patterns and their number in a data driven fashion. As we will see these patterns will naturally appear when trying to compress data in a lower dimensional space."
      ]
    },
    {
      "cell_type": "markdown",
      "metadata": {
        "id": "cXqNWQWT91kU"
      },
      "source": [
        "### Theory overview."
      ]
    },
    {
      "cell_type": "markdown",
      "metadata": {
        "id": "wskkKf6bYVf6"
      },
      "source": [
        "We will start looking at PCA from the point of view of `dimensionaliy reduction`.\n",
        "\n",
        "We can have different starting points"
      ]
    },
    {
      "cell_type": "markdown",
      "metadata": {
        "id": "xVw0KP4_91kW"
      },
      "source": [
        "**Objective:** PCA is used for dimensionality reduction when we have a large number $D$ of features with non-trivial intercorrelation ( data redundancy ) and to isolate relevant features. The number of features $D$ defines the original dimension of the dataset. Each sample defines a vector of dimensionality $D$.\n"
      ]
    },
    {
      "cell_type": "markdown",
      "metadata": {
        "id": "j3t_aJjtYVf7"
      },
      "source": [
        "    QUESTION: what are the starting vectors in our survey dataset? How many do we have?"
      ]
    },
    {
      "cell_type": "markdown",
      "metadata": {
        "ExecuteTime": {
          "end_time": "2022-09-27T12:13:53.622053Z",
          "start_time": "2022-09-27T12:13:53.611428Z"
        },
        "id": "dViKLkwBYVf7"
      },
      "source": [
        "PCA provides a new set of $M$ uncorrelated features for every data point, with $M \\le D$. The new features are:\n",
        "\n",
        "- a linear combination of the original ones ; (can consider only linear relationships)\n",
        "- uncorrelated between each other ; \n",
        "\n",
        "If $M \\ll D$ we get an effective dimensionality reduction."
      ]
    },
    {
      "cell_type": "markdown",
      "metadata": {
        "ExecuteTime": {
          "end_time": "2022-09-27T12:17:23.351734Z",
          "start_time": "2022-09-27T12:17:23.345972Z"
        },
        "id": "XNcg5fWZYVf7"
      },
      "source": [
        "    QUESTION: Does the number of data points changes after applying PCA?"
      ]
    },
    {
      "cell_type": "markdown",
      "metadata": {
        "id": "xnnFBIaf91kX"
      },
      "source": [
        "**Methods:** Each data point indexed by $p=1..N$ can be seen as an element $\\mathbf{x}_p \\in \\mathbf{R}^D$. Note that we can define an addition element-wise between the data-points (vector addition).\n",
        "\n",
        "The variance of the data-cloud measures the spread around its centroid:\n",
        "\n",
        "$$S^2=\\frac{1}{N}\\sum_{p=1}^{N}  | \\mathbf{x}_p - \\mathbf{\\overline{x}}|^2$$\n",
        "$$\\mathbf{\\overline{x}}=\\frac{1}{N}\\sum_{p=1}^{N} \\mathbf{x}_p$$\n",
        "\n",
        "The centroid is the mean. The distance to the mean will be calculated. We want to project conserving as much as possible the variamnce.\n"
      ]
    },
    {
      "cell_type": "markdown",
      "metadata": {
        "ExecuteTime": {
          "end_time": "2022-09-27T12:22:16.892832Z",
          "start_time": "2022-09-27T12:22:16.886499Z"
        },
        "id": "vu-EME0HYVf8"
      },
      "source": [
        "We fix a number $1\\le k \\le D$ and consider a subspace $V_k$ of dimension $k$. To visualize at first consider $D=3$ (our space), and $k=1,2$. $k=1$ takes into considerations lines, $k=2$ planes."
      ]
    },
    {
      "cell_type": "markdown",
      "metadata": {
        "id": "aNvBKaMWYVf8"
      },
      "source": [
        "Given $V_k$ we can perform the following steps:\n",
        "\n",
        "1. Projekt each data point  $\\mathbf{x}_p$ onto $V_k$, leading to points $\\mathbf{x}^k_p$. Projecting a point $\\mathbf{x}_p$ is equivalent to getting the point $\\mathbf{x}^k_p$ belonging to $V_k$ and closest to $\\mathbf{x}_p$.\n",
        "\n",
        "2. Use the previous formula to evaluate $S^{2,k}$, the spread of the projected data cloud.\n",
        "\n",
        "This is exemplified below in the left figure.\n",
        "\n",
        "Now, depending on $V_k$ we get a difference variance. PCA chooses $V_k$ such that the variance $S^{2,k}$ is maximized, as shown in the picture on the right. The nice thing is that the subspace $V_k$ can be evaluated analytically, given any data cloud.\n",
        "\n",
        "It is a linear technique, so will projects in plains. Chooses a plain, projects the points. Calculates a centroid and calculates the distance from the centroid (red). It conserves as much as possible the variance. \n",
        "\n"
      ]
    },
    {
      "cell_type": "markdown",
      "metadata": {
        "id": "XwbKF5LZijSQ"
      },
      "source": [
        "<img src=\"https://github.com/neworldemancer/DSF5/raw/master/figures/pca-theory.png\" width=\"100%\"/>"
      ]
    },
    {
      "cell_type": "markdown",
      "metadata": {
        "id": "beomWIl7YVf8"
      },
      "source": [
        "PCA describes subspaces (lines,planes, and their high dimensional generalizations) as \"generated\" by a sequence of vectors $v_1,...,v_k$. This is defined as the set of all the vectors:\n",
        "\n",
        "$$V_{\\{v_1,...,v_k\\}}=\\{ \\alpha_1 v_1+...+\\alpha_k v_k, \\alpha_1,..., \\alpha_k \\in \\mathbf{R} \\}$$\n",
        "\n",
        "Acima é uma sequência de vectores. Uma linha é descrita pelo valor e a multiplicação, para a tornar numa linha. \n",
        "\n",
        "PCA will therefore provide a sequence of vectors. Since many choices of $\\{v_1,...,v_k\\}$ could describe the same \"line\", \"plane\", etc. etc., it imposes an orthonormality condition.\n",
        "\n",
        "\n"
      ]
    },
    {
      "cell_type": "markdown",
      "metadata": {
        "id": "0ySGaLWp91kZ"
      },
      "source": [
        "**Terminology and output of a PCA computation:** \n",
        "- `Principal components`: A sequence of orthonormal vectors $k_1,..,k_n$. We can interpret these vectors as the typical patterns found in the data, from increasing to decreasing probability of appearance. Any vector can be constructed as a linear combination of such patterns. Using only the first $m$ vectors we get a \"best approximation\".\n",
        "\n",
        "    \n",
        "- `Scores`: For every sample-point $p$, the new features are called scores are given by the component of $p$ along the $k$ vectors;  \n",
        "\n",
        "\n",
        "- `Reconstructed vector`: For every $k$, the projection of $V$ on $V_k$. This is the best approximation that we can get of the vector using only $k$ vectors (principal components).\n",
        "\n",
        "\n",
        "- `Explained variance`: For every k, the ratio between the variance of the reconstructed vectors and total variance. The number of components is chosen selecting an optimal k. The plot of the explained variance as a function of k is called a *scree plot* - o mais próximo de 1"
      ]
    },
    {
      "cell_type": "markdown",
      "metadata": {
        "id": "lVlhhhVHYVf9"
      },
      "source": [
        "    QUESTION: \n",
        "    What are the main differences between a vector $x_p$ and a principal component $k_n$? In particular:\n",
        "    1) how many do we have ? xp describes our dataset. P is the sample point. We have as many as the samples for the first. Instead, the pca, k_n, se projectar uma linha temos um componente. Temos o mesmo número de componentes qhe o número de colunas\n",
        "    2) what are their dimensions ? sao iguais\n",
        "    \n",
        "    QUESTION: \n",
        "    What are the differences between $x_p$ and a score vector $s_p$? In particular:\n",
        "    1) how many do we have ? \n",
        "    2) what are their dimensions ?\n",
        "    \n",
        "    QUESTION: \n",
        "    1) How many reconstructed vectors do we have? What is their dimension ? Can we have a reconstructed vector with zero error? se tivermos um linear subspace que projecte exactamente não perdemos nenhum; uma aplicação de pca também serve para remover barulho. Quando fazemos a projecção podemos remover barulho. "
      ]
    },
    {
      "cell_type": "markdown",
      "metadata": {
        "id": "hF-FTX_P91ka"
      },
      "source": [
        "### Sklearn: implementation and usage of PCA.\n",
        "\n",
        "\n",
        "https://scikit-learn.org/stable/modules/generated/sklearn.decomposition.PCA.html#sklearn.decomposition.PCA"
      ]
    },
    {
      "cell_type": "markdown",
      "metadata": {
        "id": "SGwCp73k91kb"
      },
      "source": [
        "We start showing a two-dimensional example that can be easy visualized."
      ]
    },
    {
      "cell_type": "markdown",
      "metadata": {
        "id": "LoEWiYnL91ko"
      },
      "source": [
        "We load the datasets that we are going to use for the examples:"
      ]
    },
    {
      "cell_type": "code",
      "execution_count": 16,
      "metadata": {
        "id": "FrIfYz__YVf9",
        "colab": {
          "base_uri": "https://localhost:8080/",
          "height": 337
        },
        "outputId": "fe7d4a39-880a-4daa-dfcd-ebd4807a14c4"
      },
      "outputs": [
        {
          "output_type": "stream",
          "name": "stdout",
          "text": [
            "We have  30 samples of dimension  2\n"
          ]
        },
        {
          "output_type": "display_data",
          "data": {
            "text/plain": [
              "<Figure size 360x360 with 1 Axes>"
            ],
            "image/png": "[encoded data removed]"
          },
          "metadata": {
            "needs_background": "light"
          }
        }
      ],
      "source": [
        "data=load_sample_data_pca()\n",
        "\n",
        "n_samples,n_dim=data.shape\n",
        "\n",
        "print('We have ',n_samples, 'samples of dimension ', n_dim)\n",
        "\n",
        "plt.figure(figsize=((5,5)))\n",
        "plt.grid()\n",
        "plt.plot(data[:,0],data[:,1],'o')\n",
        "plt.show()"
      ]
    },
    {
      "cell_type": "markdown",
      "metadata": {
        "id": "wzvgzzfA91k8"
      },
      "source": [
        "The data set is almost one dimensional. PCA will confirm this result.\n",
        "\n",
        "As with most of sklearn functionalities, we need first to create a PCA object. We will use the object methods to perform PCA."
      ]
    },
    {
      "cell_type": "code",
      "execution_count": 18,
      "metadata": {
        "ExecuteTime": {
          "end_time": "2022-09-26T19:12:10.956955Z",
          "start_time": "2022-09-26T19:12:10.953963Z"
        },
        "id": "l6poli6o91k_"
      },
      "outputs": [],
      "source": [
        "pca=PCA(n_components=2) "
      ]
    },
    {
      "cell_type": "markdown",
      "metadata": {
        "id": "ju0UCpkP91lK"
      },
      "source": [
        "A call to the pca.fit method computes the principal components"
      ]
    },
    {
      "cell_type": "code",
      "execution_count": 19,
      "metadata": {
        "ExecuteTime": {
          "end_time": "2022-09-26T19:12:12.057604Z",
          "start_time": "2022-09-26T19:12:12.034521Z"
        },
        "id": "ifWK32ME91lM",
        "outputId": "ae3ad7aa-e9b4-43e4-c4c2-4ec2cbd9ab4b",
        "colab": {
          "base_uri": "https://localhost:8080/"
        }
      },
      "outputs": [
        {
          "output_type": "execute_result",
          "data": {
            "text/plain": [
              "PCA(n_components=2)"
            ]
          },
          "metadata": {},
          "execution_count": 19
        }
      ],
      "source": [
        "pca.fit(data)"
      ]
    },
    {
      "cell_type": "code",
      "source": [
        "dir(pca) #ver os atributos"
      ],
      "metadata": {
        "id": "9lcWXzOvk_FZ"
      },
      "execution_count": null,
      "outputs": []
    },
    {
      "cell_type": "markdown",
      "metadata": {
        "id": "jZdfZbLv91lW"
      },
      "source": [
        "Now the pca.components_ attribute contains the principal components. We can print them alongside with the data and check that they constitute an orthonormal basis."
      ]
    },
    {
      "cell_type": "code",
      "execution_count": 22,
      "metadata": {
        "id": "1Jz5s2cKYVgE",
        "colab": {
          "base_uri": "https://localhost:8080/",
          "height": 324
        },
        "outputId": "7b0502c4-34ef-4b6d-c3f8-2897e4a15a19"
      },
      "outputs": [
        {
          "output_type": "display_data",
          "data": {
            "text/plain": [
              "<Figure size 360x360 with 1 Axes>"
            ],
            "image/png": "[encoded data removed]"
          },
          "metadata": {
            "needs_background": "light"
          }
        }
      ],
      "source": [
        "plt.figure(figsize=((5,5)))\n",
        "plt.grid()\n",
        "plt.plot(data[:,0],data[:,1],'o')\n",
        "\n",
        "circle=plt.Circle((0, 0), 1.0, linestyle='--', color='red',fill=False)\n",
        "ax=plt.gca()\n",
        "ax.add_artist(circle)\n",
        "\n",
        "for vec in pca.components_:\n",
        "    plt.quiver([0], [0], [vec[0]], [vec[1]], angles='xy', scale_units='xy', scale=1) #the black lines are the first and second principal component; the first one is the one é o que acompanha a direcção dos dados\n",
        "    #o segundo pode ser para medir o  barulho\n",
        "\n",
        "plt.xlim(-2,2)\n",
        "plt.ylim(-2,2)\n",
        "plt.show()"
      ]
    },
    {
      "cell_type": "markdown",
      "metadata": {
        "id": "q48o3r3t91li"
      },
      "source": [
        "The pca.explained_variance_ratio_ attribute contains the explained variance. In this case we see that already the first reconstructed vector explains 95% of the variance."
      ]
    },
    {
      "cell_type": "code",
      "execution_count": null,
      "metadata": {
        "ExecuteTime": {
          "end_time": "2022-09-26T19:12:22.269942Z",
          "start_time": "2022-09-26T19:12:22.263717Z"
        },
        "id": "TwEopdTN91lk",
        "outputId": "204f2f36-b951-4c79-8d27-96ff9ab9c857"
      },
      "outputs": [
        {
          "name": "stdout",
          "output_type": "stream",
          "text": [
            "[0.95140729 0.04859271]\n"
          ]
        }
      ],
      "source": [
        "print(pca.explained_variance_ratio_) #há um número para casa componente; a percentagem de varância que é explicada pelo primero e pelo segundo; neste caso só vale a pena \n",
        "#manter o primeiro, o segundo tem um valor muito baixo "
      ]
    },
    {
      "cell_type": "markdown",
      "metadata": {
        "id": "jfaA1wo391ls"
      },
      "source": [
        "To compute the reconstructed vectors for k=1 we first need to compute the scores and then multiply by the basis vectors:\n",
        "\n",
        "$\\mathbf x_{rec}=\\sum_i (\\mathbf x \\cdot \\mathbf v^{pr}_i) \\mathbf v^{pr}_i$\n",
        "\n",
        "Fórmula matemática para descontruir o vector"
      ]
    },
    {
      "cell_type": "code",
      "execution_count": 23,
      "metadata": {
        "ExecuteTime": {
          "end_time": "2022-09-26T19:12:24.347892Z",
          "start_time": "2022-09-26T19:12:24.343929Z"
        },
        "id": "enRkHTyO91lu"
      },
      "outputs": [],
      "source": [
        "k=1 #se quisermos o vector decomposto só com o primeiro componente\n",
        "scores=pca.transform(data)\n",
        "res=np.dot(scores[:,:k], pca.components_[:k,:] )"
      ]
    },
    {
      "cell_type": "code",
      "execution_count": 24,
      "metadata": {
        "id": "JKTteZiUYVgG",
        "colab": {
          "base_uri": "https://localhost:8080/",
          "height": 324
        },
        "outputId": "7443430d-65b5-4fbe-aa6d-d93cf6e91e57"
      },
      "outputs": [
        {
          "output_type": "display_data",
          "data": {
            "text/plain": [
              "<Figure size 360x360 with 1 Axes>"
            ],
            "image/png": "[encoded data removed]"
          },
          "metadata": {
            "needs_background": "light"
          }
        }
      ],
      "source": [
        "plt.figure(figsize=((5,5)))\n",
        "plt.plot(res[:,0],res[:,1],'o')\n",
        "plt.plot(data[:,0],data[:,1],'o')\n",
        "\n",
        "for a,b,c,d in zip(data[:,0],data[:,1],res[:,0],res[:,1]) :\n",
        "    plt.plot([a,c],[b,d],'-', linestyle = '--', color='red')\n",
        "\n",
        "plt.grid()\n",
        "\n",
        "plt.xlim(-1.0,1.0)\n",
        "plt.ylim(-1.0,1.0)\n",
        "plt.show()\n",
        "\n",
        "#visualização dos pontos projectados (azul - reconstructed vector) e o barulho. Os tracejados são a distância entre os pontos iniciais e o reconstruído"
      ]
    },
    {
      "cell_type": "markdown",
      "metadata": {
        "id": "oZlmDioD91mD"
      },
      "source": [
        "The same procedure is followed for high dimensional datasets. Here we generate random data which lies almost on a 6-dimensional subspace. The resulting scree plot can be used to find this result in a semi-automatic fashion."
      ]
    },
    {
      "cell_type": "markdown",
      "metadata": {
        "id": "Ayt_ii-FYVgG"
      },
      "source": [
        "Let's redo the same now with our survey dataset, to review the concepts again and think \"high\"-dimensionally."
      ]
    },
    {
      "cell_type": "code",
      "execution_count": 25,
      "metadata": {
        "ExecuteTime": {
          "end_time": "2022-09-27T14:44:10.677074Z",
          "start_time": "2022-09-27T14:44:10.652371Z"
        },
        "id": "gNY4jnvUYVgH",
        "outputId": "fcbc9803-43a0-4dbe-ff3a-369d34cbc476",
        "colab": {
          "base_uri": "https://localhost:8080/"
        }
      },
      "outputs": [
        {
          "output_type": "execute_result",
          "data": {
            "text/plain": [
              "PCA()"
            ]
          },
          "metadata": {},
          "execution_count": 25
        }
      ],
      "source": [
        "pca=PCA() \n",
        "pca.fit(music_data)"
      ]
    },
    {
      "cell_type": "code",
      "execution_count": 27,
      "metadata": {
        "id": "UJe02dxlYVgH",
        "colab": {
          "base_uri": "https://localhost:8080/",
          "height": 296
        },
        "outputId": "7551ee36-5aae-4099-e1be-c4c38f2af718"
      },
      "outputs": [
        {
          "output_type": "execute_result",
          "data": {
            "text/plain": [
              "Text(0.5, 0, 'Princial component')"
            ]
          },
          "metadata": {},
          "execution_count": 27
        },
        {
          "output_type": "display_data",
          "data": {
            "text/plain": [
              "<Figure size 432x288 with 1 Axes>"
            ],
            "image/png": "[encoded data removed]"
          },
          "metadata": {
            "needs_background": "light"
          }
        }
      ],
      "source": [
        "plt.plot(pca.explained_variance_ratio_,'-o')\n",
        "plt.xlabel(\"Princial component\")\n",
        "#só 20% da variância pode ser explicada por um componente; há medida que vamos adicionando componentes, vamos explicando mais variância; o segundo componente explica mais 15%\n",
        "#os primeiros 4 têm um comportamento diferente dos outros, pelo que vale a pena usar só  usar os 4 primeiros; se formos até todos os componentes a soma tem que ser 1"
      ]
    },
    {
      "cell_type": "code",
      "execution_count": 30,
      "metadata": {
        "id": "SDTCP-CyYVgH",
        "colab": {
          "base_uri": "https://localhost:8080/",
          "height": 848
        },
        "outputId": "951abf43-dace-4053-df44-13a445d06371"
      },
      "outputs": [
        {
          "output_type": "execute_result",
          "data": {
            "text/plain": [
              "                               V_1       V_2       V_3       V_4       V_5  \\\n",
              "Music                     0.034327 -0.030242 -0.058575  0.003401 -0.005648   \n",
              "Slow songs or fast songs -0.038844  0.001008 -0.150553  0.058194 -0.098439   \n",
              "Dance                    -0.108185 -0.351080 -0.242687  0.144840 -0.215340   \n",
              "Folk                      0.198776 -0.190829  0.165786  0.110605 -0.005172   \n",
              "Country                   0.170824 -0.140712  0.074469  0.013157 -0.127616   \n",
              "Classical music           0.321165 -0.154089  0.246121  0.335864  0.050521   \n",
              "Musical                   0.195235 -0.315976  0.227786 -0.189421 -0.212367   \n",
              "Pop                      -0.102153 -0.323553 -0.093759 -0.191536 -0.354285   \n",
              "Rock                      0.307950  0.116657 -0.196066 -0.138037 -0.298001   \n",
              "Metal or Hardrock         0.337369  0.277790 -0.224637  0.107211 -0.356716   \n",
              "Punk                      0.292607  0.214361 -0.338657 -0.105717 -0.204786   \n",
              "Hiphop, Rap              -0.177256 -0.300717 -0.426559 -0.045871  0.224796   \n",
              "Reggae, Ska               0.149999 -0.157265 -0.343566 -0.239075  0.353116   \n",
              "Swing, Jazz               0.317199 -0.222979 -0.023197 -0.014959  0.383020   \n",
              "Rock n roll               0.344371 -0.062602 -0.133387 -0.194204  0.004863   \n",
              "Alternative               0.336695  0.095855 -0.173703  0.188043  0.379220   \n",
              "Latino                    0.088214 -0.452944  0.032022 -0.258361 -0.098856   \n",
              "Techno, Trance           -0.104248 -0.213711 -0.350268  0.679807 -0.136174   \n",
              "Opera                     0.256530 -0.160605  0.291417  0.273263 -0.048585   \n",
              "\n",
              "                               V_6       V_7       V_8       V_9      V_10  \\\n",
              "Music                     0.070442 -0.072589  0.046377 -0.002965 -0.044203   \n",
              "Slow songs or fast songs  0.037892  0.008159 -0.023107 -0.106553  0.048223   \n",
              "Dance                     0.140691  0.072253  0.150583 -0.106101 -0.007872   \n",
              "Folk                     -0.214301  0.350442  0.290317 -0.367466 -0.340010   \n",
              "Country                  -0.205966  0.493252  0.371091  0.024814  0.188480   \n",
              "Classical music          -0.112244 -0.242079  0.058894  0.227351 -0.237305   \n",
              "Musical                  -0.041638 -0.419096 -0.113744 -0.242206  0.473885   \n",
              "Pop                       0.196396 -0.257379  0.313967  0.084972 -0.267280   \n",
              "Rock                      0.155711 -0.095854  0.090328  0.178293 -0.158085   \n",
              "Metal or Hardrock        -0.218770  0.118212 -0.386633  0.140126 -0.183835   \n",
              "Punk                     -0.246900 -0.138413  0.081590 -0.245407  0.085337   \n",
              "Hiphop, Rap              -0.412836 -0.256795  0.062097  0.199921 -0.282767   \n",
              "Reggae, Ska              -0.328014  0.051914 -0.032139 -0.169631  0.260383   \n",
              "Swing, Jazz               0.144596  0.101772 -0.115990  0.445537  0.046063   \n",
              "Rock n roll               0.318049  0.141094  0.242990  0.283030  0.254945   \n",
              "Alternative               0.429766 -0.197458  0.075295 -0.483551 -0.206276   \n",
              "Latino                    0.154364  0.274479 -0.607372 -0.174306 -0.252054   \n",
              "Techno, Trance            0.131790  0.088777 -0.140308  0.011600  0.320013   \n",
              "Opera                    -0.271119 -0.243752 -0.041496  0.028662  0.052677   \n",
              "\n",
              "                              V_11      V_12      V_13      V_14      V_15  \\\n",
              "Music                     0.005060 -0.112661  0.011120  0.114572  0.140985   \n",
              "Slow songs or fast songs  0.046499 -0.469155 -0.196216  0.302002  0.408006   \n",
              "Dance                    -0.225787 -0.284248 -0.454947 -0.441326  0.126784   \n",
              "Folk                     -0.047813 -0.350712  0.189948  0.291911 -0.329439   \n",
              "Country                   0.321041  0.317403  0.049683 -0.341773  0.253690   \n",
              "Classical music          -0.084052  0.144460 -0.040855  0.015306  0.203028   \n",
              "Musical                   0.297234 -0.237463  0.195298 -0.144131 -0.132668   \n",
              "Pop                      -0.222586  0.120422  0.331245 -0.039526 -0.088276   \n",
              "Rock                     -0.070379  0.057146  0.217821  0.127137  0.302390   \n",
              "Metal or Hardrock         0.168455 -0.283392  0.181362 -0.251764 -0.013434   \n",
              "Punk                     -0.235533  0.286283 -0.375933  0.016231 -0.407479   \n",
              "Hiphop, Rap               0.495593 -0.001204 -0.096373  0.048927 -0.077556   \n",
              "Reggae, Ska              -0.394439  0.010632  0.303252  0.062724  0.348069   \n",
              "Swing, Jazz              -0.243816 -0.239339  0.027718 -0.270148 -0.309987   \n",
              "Rock n roll               0.250566 -0.042772 -0.248704  0.419377 -0.100634   \n",
              "Alternative               0.246686  0.101435  0.046122 -0.212272  0.093545   \n",
              "Latino                    0.046856  0.304369 -0.156022  0.140466  0.053253   \n",
              "Techno, Trance           -0.001089  0.185491  0.276656  0.219630 -0.166791   \n",
              "Opera                    -0.145743  0.093819 -0.278878  0.168178  0.166213   \n",
              "\n",
              "                              V_16      V_17      V_18      V_19  \n",
              "Music                    -0.138319 -0.223307  0.223824 -0.902855  \n",
              "Slow songs or fast songs -0.491768  0.244483  0.258269  0.245515  \n",
              "Dance                     0.223653 -0.171112 -0.224983 -0.016402  \n",
              "Folk                      0.068718 -0.136498 -0.024515  0.040103  \n",
              "Country                  -0.175941  0.060453  0.217247 -0.013842  \n",
              "Classical music          -0.416664 -0.063652 -0.515503 -0.006618  \n",
              "Musical                  -0.080119 -0.153356 -0.055279  0.037238  \n",
              "Pop                      -0.056829  0.484205  0.097763 -0.038331  \n",
              "Rock                      0.159884 -0.586401  0.189754  0.279609  \n",
              "Metal or Hardrock         0.139735  0.303840 -0.133485 -0.142317  \n",
              "Punk                     -0.303818 -0.037383  0.086837 -0.006442  \n",
              "Hiphop, Rap               0.055258 -0.093432  0.067343  0.061419  \n",
              "Reggae, Ska               0.109389  0.108431 -0.215019 -0.047829  \n",
              "Swing, Jazz              -0.186082 -0.031841  0.357396  0.083141  \n",
              "Rock n roll               0.205504  0.202803 -0.307177 -0.080989  \n",
              "Alternative               0.073777  0.146927  0.084183  0.034348  \n",
              "Latino                   -0.071908 -0.021227  0.010871 -0.006754  \n",
              "Techno, Trance           -0.025449 -0.060299  0.031499  0.018266  \n",
              "Opera                     0.479105  0.225580  0.404980 -0.006259  "
            ],
            "text/html": [
              "\n",
              "  <div id=\"df-0b9f6f55-5a8f-471a-bc4b-fbef7b2a4b89\">\n",
              "    <div class=\"colab-df-container\">\n",
              "      <div>\n",
              "<style scoped>\n",
              "    .dataframe tbody tr th:only-of-type {\n",
              "        vertical-align: middle;\n",
              "    }\n",
              "\n",
              "    .dataframe tbody tr th {\n",
              "        vertical-align: top;\n",
              "    }\n",
              "\n",
              "    .dataframe thead th {\n",
              "        text-align: right;\n",
              "    }\n",
              "</style>\n",
              "<table border=\"1\" class=\"dataframe\">\n",
              "  <thead>\n",
              "    <tr style=\"text-align: right;\">\n",
              "      <th></th>\n",
              "      <th>V_1</th>\n",
              "      <th>V_2</th>\n",
              "      <th>V_3</th>\n",
              "      <th>V_4</th>\n",
              "      <th>V_5</th>\n",
              "      <th>V_6</th>\n",
              "      <th>V_7</th>\n",
              "      <th>V_8</th>\n",
              "      <th>V_9</th>\n",
              "      <th>V_10</th>\n",
              "      <th>V_11</th>\n",
              "      <th>V_12</th>\n",
              "      <th>V_13</th>\n",
              "      <th>V_14</th>\n",
              "      <th>V_15</th>\n",
              "      <th>V_16</th>\n",
              "      <th>V_17</th>\n",
              "      <th>V_18</th>\n",
              "      <th>V_19</th>\n",
              "    </tr>\n",
              "  </thead>\n",
              "  <tbody>\n",
              "    <tr>\n",
              "      <th>Music</th>\n",
              "      <td>0.034327</td>\n",
              "      <td>-0.030242</td>\n",
              "      <td>-0.058575</td>\n",
              "      <td>0.003401</td>\n",
              "      <td>-0.005648</td>\n",
              "      <td>0.070442</td>\n",
              "      <td>-0.072589</td>\n",
              "      <td>0.046377</td>\n",
              "      <td>-0.002965</td>\n",
              "      <td>-0.044203</td>\n",
              "      <td>0.005060</td>\n",
              "      <td>-0.112661</td>\n",
              "      <td>0.011120</td>\n",
              "      <td>0.114572</td>\n",
              "      <td>0.140985</td>\n",
              "      <td>-0.138319</td>\n",
              "      <td>-0.223307</td>\n",
              "      <td>0.223824</td>\n",
              "      <td>-0.902855</td>\n",
              "    </tr>\n",
              "    <tr>\n",
              "      <th>Slow songs or fast songs</th>\n",
              "      <td>-0.038844</td>\n",
              "      <td>0.001008</td>\n",
              "      <td>-0.150553</td>\n",
              "      <td>0.058194</td>\n",
              "      <td>-0.098439</td>\n",
              "      <td>0.037892</td>\n",
              "      <td>0.008159</td>\n",
              "      <td>-0.023107</td>\n",
              "      <td>-0.106553</td>\n",
              "      <td>0.048223</td>\n",
              "      <td>0.046499</td>\n",
              "      <td>-0.469155</td>\n",
              "      <td>-0.196216</td>\n",
              "      <td>0.302002</td>\n",
              "      <td>0.408006</td>\n",
              "      <td>-0.491768</td>\n",
              "      <td>0.244483</td>\n",
              "      <td>0.258269</td>\n",
              "      <td>0.245515</td>\n",
              "    </tr>\n",
              "    <tr>\n",
              "      <th>Dance</th>\n",
              "      <td>-0.108185</td>\n",
              "      <td>-0.351080</td>\n",
              "      <td>-0.242687</td>\n",
              "      <td>0.144840</td>\n",
              "      <td>-0.215340</td>\n",
              "      <td>0.140691</td>\n",
              "      <td>0.072253</td>\n",
              "      <td>0.150583</td>\n",
              "      <td>-0.106101</td>\n",
              "      <td>-0.007872</td>\n",
              "      <td>-0.225787</td>\n",
              "      <td>-0.284248</td>\n",
              "      <td>-0.454947</td>\n",
              "      <td>-0.441326</td>\n",
              "      <td>0.126784</td>\n",
              "      <td>0.223653</td>\n",
              "      <td>-0.171112</td>\n",
              "      <td>-0.224983</td>\n",
              "      <td>-0.016402</td>\n",
              "    </tr>\n",
              "    <tr>\n",
              "      <th>Folk</th>\n",
              "      <td>0.198776</td>\n",
              "      <td>-0.190829</td>\n",
              "      <td>0.165786</td>\n",
              "      <td>0.110605</td>\n",
              "      <td>-0.005172</td>\n",
              "      <td>-0.214301</td>\n",
              "      <td>0.350442</td>\n",
              "      <td>0.290317</td>\n",
              "      <td>-0.367466</td>\n",
              "      <td>-0.340010</td>\n",
              "      <td>-0.047813</td>\n",
              "      <td>-0.350712</td>\n",
              "      <td>0.189948</td>\n",
              "      <td>0.291911</td>\n",
              "      <td>-0.329439</td>\n",
              "      <td>0.068718</td>\n",
              "      <td>-0.136498</td>\n",
              "      <td>-0.024515</td>\n",
              "      <td>0.040103</td>\n",
              "    </tr>\n",
              "    <tr>\n",
              "      <th>Country</th>\n",
              "      <td>0.170824</td>\n",
              "      <td>-0.140712</td>\n",
              "      <td>0.074469</td>\n",
              "      <td>0.013157</td>\n",
              "      <td>-0.127616</td>\n",
              "      <td>-0.205966</td>\n",
              "      <td>0.493252</td>\n",
              "      <td>0.371091</td>\n",
              "      <td>0.024814</td>\n",
              "      <td>0.188480</td>\n",
              "      <td>0.321041</td>\n",
              "      <td>0.317403</td>\n",
              "      <td>0.049683</td>\n",
              "      <td>-0.341773</td>\n",
              "      <td>0.253690</td>\n",
              "      <td>-0.175941</td>\n",
              "      <td>0.060453</td>\n",
              "      <td>0.217247</td>\n",
              "      <td>-0.013842</td>\n",
              "    </tr>\n",
              "    <tr>\n",
              "      <th>Classical music</th>\n",
              "      <td>0.321165</td>\n",
              "      <td>-0.154089</td>\n",
              "      <td>0.246121</td>\n",
              "      <td>0.335864</td>\n",
              "      <td>0.050521</td>\n",
              "      <td>-0.112244</td>\n",
              "      <td>-0.242079</td>\n",
              "      <td>0.058894</td>\n",
              "      <td>0.227351</td>\n",
              "      <td>-0.237305</td>\n",
              "      <td>-0.084052</td>\n",
              "      <td>0.144460</td>\n",
              "      <td>-0.040855</td>\n",
              "      <td>0.015306</td>\n",
              "      <td>0.203028</td>\n",
              "      <td>-0.416664</td>\n",
              "      <td>-0.063652</td>\n",
              "      <td>-0.515503</td>\n",
              "      <td>-0.006618</td>\n",
              "    </tr>\n",
              "    <tr>\n",
              "      <th>Musical</th>\n",
              "      <td>0.195235</td>\n",
              "      <td>-0.315976</td>\n",
              "      <td>0.227786</td>\n",
              "      <td>-0.189421</td>\n",
              "      <td>-0.212367</td>\n",
              "      <td>-0.041638</td>\n",
              "      <td>-0.419096</td>\n",
              "      <td>-0.113744</td>\n",
              "      <td>-0.242206</td>\n",
              "      <td>0.473885</td>\n",
              "      <td>0.297234</td>\n",
              "      <td>-0.237463</td>\n",
              "      <td>0.195298</td>\n",
              "      <td>-0.144131</td>\n",
              "      <td>-0.132668</td>\n",
              "      <td>-0.080119</td>\n",
              "      <td>-0.153356</td>\n",
              "      <td>-0.055279</td>\n",
              "      <td>0.037238</td>\n",
              "    </tr>\n",
              "    <tr>\n",
              "      <th>Pop</th>\n",
              "      <td>-0.102153</td>\n",
              "      <td>-0.323553</td>\n",
              "      <td>-0.093759</td>\n",
              "      <td>-0.191536</td>\n",
              "      <td>-0.354285</td>\n",
              "      <td>0.196396</td>\n",
              "      <td>-0.257379</td>\n",
              "      <td>0.313967</td>\n",
              "      <td>0.084972</td>\n",
              "      <td>-0.267280</td>\n",
              "      <td>-0.222586</td>\n",
              "      <td>0.120422</td>\n",
              "      <td>0.331245</td>\n",
              "      <td>-0.039526</td>\n",
              "      <td>-0.088276</td>\n",
              "      <td>-0.056829</td>\n",
              "      <td>0.484205</td>\n",
              "      <td>0.097763</td>\n",
              "      <td>-0.038331</td>\n",
              "    </tr>\n",
              "    <tr>\n",
              "      <th>Rock</th>\n",
              "      <td>0.307950</td>\n",
              "      <td>0.116657</td>\n",
              "      <td>-0.196066</td>\n",
              "      <td>-0.138037</td>\n",
              "      <td>-0.298001</td>\n",
              "      <td>0.155711</td>\n",
              "      <td>-0.095854</td>\n",
              "      <td>0.090328</td>\n",
              "      <td>0.178293</td>\n",
              "      <td>-0.158085</td>\n",
              "      <td>-0.070379</td>\n",
              "      <td>0.057146</td>\n",
              "      <td>0.217821</td>\n",
              "      <td>0.127137</td>\n",
              "      <td>0.302390</td>\n",
              "      <td>0.159884</td>\n",
              "      <td>-0.586401</td>\n",
              "      <td>0.189754</td>\n",
              "      <td>0.279609</td>\n",
              "    </tr>\n",
              "    <tr>\n",
              "      <th>Metal or Hardrock</th>\n",
              "      <td>0.337369</td>\n",
              "      <td>0.277790</td>\n",
              "      <td>-0.224637</td>\n",
              "      <td>0.107211</td>\n",
              "      <td>-0.356716</td>\n",
              "      <td>-0.218770</td>\n",
              "      <td>0.118212</td>\n",
              "      <td>-0.386633</td>\n",
              "      <td>0.140126</td>\n",
              "      <td>-0.183835</td>\n",
              "      <td>0.168455</td>\n",
              "      <td>-0.283392</td>\n",
              "      <td>0.181362</td>\n",
              "      <td>-0.251764</td>\n",
              "      <td>-0.013434</td>\n",
              "      <td>0.139735</td>\n",
              "      <td>0.303840</td>\n",
              "      <td>-0.133485</td>\n",
              "      <td>-0.142317</td>\n",
              "    </tr>\n",
              "    <tr>\n",
              "      <th>Punk</th>\n",
              "      <td>0.292607</td>\n",
              "      <td>0.214361</td>\n",
              "      <td>-0.338657</td>\n",
              "      <td>-0.105717</td>\n",
              "      <td>-0.204786</td>\n",
              "      <td>-0.246900</td>\n",
              "      <td>-0.138413</td>\n",
              "      <td>0.081590</td>\n",
              "      <td>-0.245407</td>\n",
              "      <td>0.085337</td>\n",
              "      <td>-0.235533</td>\n",
              "      <td>0.286283</td>\n",
              "      <td>-0.375933</td>\n",
              "      <td>0.016231</td>\n",
              "      <td>-0.407479</td>\n",
              "      <td>-0.303818</td>\n",
              "      <td>-0.037383</td>\n",
              "      <td>0.086837</td>\n",
              "      <td>-0.006442</td>\n",
              "    </tr>\n",
              "    <tr>\n",
              "      <th>Hiphop, Rap</th>\n",
              "      <td>-0.177256</td>\n",
              "      <td>-0.300717</td>\n",
              "      <td>-0.426559</td>\n",
              "      <td>-0.045871</td>\n",
              "      <td>0.224796</td>\n",
              "      <td>-0.412836</td>\n",
              "      <td>-0.256795</td>\n",
              "      <td>0.062097</td>\n",
              "      <td>0.199921</td>\n",
              "      <td>-0.282767</td>\n",
              "      <td>0.495593</td>\n",
              "      <td>-0.001204</td>\n",
              "      <td>-0.096373</td>\n",
              "      <td>0.048927</td>\n",
              "      <td>-0.077556</td>\n",
              "      <td>0.055258</td>\n",
              "      <td>-0.093432</td>\n",
              "      <td>0.067343</td>\n",
              "      <td>0.061419</td>\n",
              "    </tr>\n",
              "    <tr>\n",
              "      <th>Reggae, Ska</th>\n",
              "      <td>0.149999</td>\n",
              "      <td>-0.157265</td>\n",
              "      <td>-0.343566</td>\n",
              "      <td>-0.239075</td>\n",
              "      <td>0.353116</td>\n",
              "      <td>-0.328014</td>\n",
              "      <td>0.051914</td>\n",
              "      <td>-0.032139</td>\n",
              "      <td>-0.169631</td>\n",
              "      <td>0.260383</td>\n",
              "      <td>-0.394439</td>\n",
              "      <td>0.010632</td>\n",
              "      <td>0.303252</td>\n",
              "      <td>0.062724</td>\n",
              "      <td>0.348069</td>\n",
              "      <td>0.109389</td>\n",
              "      <td>0.108431</td>\n",
              "      <td>-0.215019</td>\n",
              "      <td>-0.047829</td>\n",
              "    </tr>\n",
              "    <tr>\n",
              "      <th>Swing, Jazz</th>\n",
              "      <td>0.317199</td>\n",
              "      <td>-0.222979</td>\n",
              "      <td>-0.023197</td>\n",
              "      <td>-0.014959</td>\n",
              "      <td>0.383020</td>\n",
              "      <td>0.144596</td>\n",
              "      <td>0.101772</td>\n",
              "      <td>-0.115990</td>\n",
              "      <td>0.445537</td>\n",
              "      <td>0.046063</td>\n",
              "      <td>-0.243816</td>\n",
              "      <td>-0.239339</td>\n",
              "      <td>0.027718</td>\n",
              "      <td>-0.270148</td>\n",
              "      <td>-0.309987</td>\n",
              "      <td>-0.186082</td>\n",
              "      <td>-0.031841</td>\n",
              "      <td>0.357396</td>\n",
              "      <td>0.083141</td>\n",
              "    </tr>\n",
              "    <tr>\n",
              "      <th>Rock n roll</th>\n",
              "      <td>0.344371</td>\n",
              "      <td>-0.062602</td>\n",
              "      <td>-0.133387</td>\n",
              "      <td>-0.194204</td>\n",
              "      <td>0.004863</td>\n",
              "      <td>0.318049</td>\n",
              "      <td>0.141094</td>\n",
              "      <td>0.242990</td>\n",
              "      <td>0.283030</td>\n",
              "      <td>0.254945</td>\n",
              "      <td>0.250566</td>\n",
              "      <td>-0.042772</td>\n",
              "      <td>-0.248704</td>\n",
              "      <td>0.419377</td>\n",
              "      <td>-0.100634</td>\n",
              "      <td>0.205504</td>\n",
              "      <td>0.202803</td>\n",
              "      <td>-0.307177</td>\n",
              "      <td>-0.080989</td>\n",
              "    </tr>\n",
              "    <tr>\n",
              "      <th>Alternative</th>\n",
              "      <td>0.336695</td>\n",
              "      <td>0.095855</td>\n",
              "      <td>-0.173703</td>\n",
              "      <td>0.188043</td>\n",
              "      <td>0.379220</td>\n",
              "      <td>0.429766</td>\n",
              "      <td>-0.197458</td>\n",
              "      <td>0.075295</td>\n",
              "      <td>-0.483551</td>\n",
              "      <td>-0.206276</td>\n",
              "      <td>0.246686</td>\n",
              "      <td>0.101435</td>\n",
              "      <td>0.046122</td>\n",
              "      <td>-0.212272</td>\n",
              "      <td>0.093545</td>\n",
              "      <td>0.073777</td>\n",
              "      <td>0.146927</td>\n",
              "      <td>0.084183</td>\n",
              "      <td>0.034348</td>\n",
              "    </tr>\n",
              "    <tr>\n",
              "      <th>Latino</th>\n",
              "      <td>0.088214</td>\n",
              "      <td>-0.452944</td>\n",
              "      <td>0.032022</td>\n",
              "      <td>-0.258361</td>\n",
              "      <td>-0.098856</td>\n",
              "      <td>0.154364</td>\n",
              "      <td>0.274479</td>\n",
              "      <td>-0.607372</td>\n",
              "      <td>-0.174306</td>\n",
              "      <td>-0.252054</td>\n",
              "      <td>0.046856</td>\n",
              "      <td>0.304369</td>\n",
              "      <td>-0.156022</td>\n",
              "      <td>0.140466</td>\n",
              "      <td>0.053253</td>\n",
              "      <td>-0.071908</td>\n",
              "      <td>-0.021227</td>\n",
              "      <td>0.010871</td>\n",
              "      <td>-0.006754</td>\n",
              "    </tr>\n",
              "    <tr>\n",
              "      <th>Techno, Trance</th>\n",
              "      <td>-0.104248</td>\n",
              "      <td>-0.213711</td>\n",
              "      <td>-0.350268</td>\n",
              "      <td>0.679807</td>\n",
              "      <td>-0.136174</td>\n",
              "      <td>0.131790</td>\n",
              "      <td>0.088777</td>\n",
              "      <td>-0.140308</td>\n",
              "      <td>0.011600</td>\n",
              "      <td>0.320013</td>\n",
              "      <td>-0.001089</td>\n",
              "      <td>0.185491</td>\n",
              "      <td>0.276656</td>\n",
              "      <td>0.219630</td>\n",
              "      <td>-0.166791</td>\n",
              "      <td>-0.025449</td>\n",
              "      <td>-0.060299</td>\n",
              "      <td>0.031499</td>\n",
              "      <td>0.018266</td>\n",
              "    </tr>\n",
              "    <tr>\n",
              "      <th>Opera</th>\n",
              "      <td>0.256530</td>\n",
              "      <td>-0.160605</td>\n",
              "      <td>0.291417</td>\n",
              "      <td>0.273263</td>\n",
              "      <td>-0.048585</td>\n",
              "      <td>-0.271119</td>\n",
              "      <td>-0.243752</td>\n",
              "      <td>-0.041496</td>\n",
              "      <td>0.028662</td>\n",
              "      <td>0.052677</td>\n",
              "      <td>-0.145743</td>\n",
              "      <td>0.093819</td>\n",
              "      <td>-0.278878</td>\n",
              "      <td>0.168178</td>\n",
              "      <td>0.166213</td>\n",
              "      <td>0.479105</td>\n",
              "      <td>0.225580</td>\n",
              "      <td>0.404980</td>\n",
              "      <td>-0.006259</td>\n",
              "    </tr>\n",
              "  </tbody>\n",
              "</table>\n",
              "</div>\n",
              "      <button class=\"colab-df-convert\" onclick=\"convertToInteractive('df-0b9f6f55-5a8f-471a-bc4b-fbef7b2a4b89')\"\n",
              "              title=\"Convert this dataframe to an interactive table.\"\n",
              "              style=\"display:none;\">\n",
              "        \n",
              "  <svg xmlns=\"http://www.w3.org/2000/svg\" height=\"24px\"viewBox=\"0 0 24 24\"\n",
              "       width=\"24px\">\n",
              "    <path d=\"M0 0h24v24H0V0z\" fill=\"none\"/>\n",
              "    <path d=\"M18.56 5.44l.94 2.06.94-2.06 2.06-.94-2.06-.94-.94-2.06-.94 2.06-2.06.94zm-11 1L8.5 8.5l.94-2.06 2.06-.94-2.06-.94L8.5 2.5l-.94 2.06-2.06.94zm10 10l.94 2.06.94-2.06 2.06-.94-2.06-.94-.94-2.06-.94 2.06-2.06.94z\"/><path d=\"M17.41 7.96l-1.37-1.37c-.4-.4-.92-.59-1.43-.59-.52 0-1.04.2-1.43.59L10.3 9.45l-7.72 7.72c-.78.78-.78 2.05 0 2.83L4 21.41c.39.39.9.59 1.41.59.51 0 1.02-.2 1.41-.59l7.78-7.78 2.81-2.81c.8-.78.8-2.07 0-2.86zM5.41 20L4 18.59l7.72-7.72 1.47 1.35L5.41 20z\"/>\n",
              "  </svg>\n",
              "      </button>\n",
              "      \n",
              "  <style>\n",
              "    .colab-df-container {\n",
              "      display:flex;\n",
              "      flex-wrap:wrap;\n",
              "      gap: 12px;\n",
              "    }\n",
              "\n",
              "    .colab-df-convert {\n",
              "      background-color: #E8F0FE;\n",
              "      border: none;\n",
              "      border-radius: 50%;\n",
              "      cursor: pointer;\n",
              "      display: none;\n",
              "      fill: #1967D2;\n",
              "      height: 32px;\n",
              "      padding: 0 0 0 0;\n",
              "      width: 32px;\n",
              "    }\n",
              "\n",
              "    .colab-df-convert:hover {\n",
              "      background-color: #E2EBFA;\n",
              "      box-shadow: 0px 1px 2px rgba(60, 64, 67, 0.3), 0px 1px 3px 1px rgba(60, 64, 67, 0.15);\n",
              "      fill: #174EA6;\n",
              "    }\n",
              "\n",
              "    [theme=dark] .colab-df-convert {\n",
              "      background-color: #3B4455;\n",
              "      fill: #D2E3FC;\n",
              "    }\n",
              "\n",
              "    [theme=dark] .colab-df-convert:hover {\n",
              "      background-color: #434B5C;\n",
              "      box-shadow: 0px 1px 3px 1px rgba(0, 0, 0, 0.15);\n",
              "      filter: drop-shadow(0px 1px 2px rgba(0, 0, 0, 0.3));\n",
              "      fill: #FFFFFF;\n",
              "    }\n",
              "  </style>\n",
              "\n",
              "      <script>\n",
              "        const buttonEl =\n",
              "          document.querySelector('#df-0b9f6f55-5a8f-471a-bc4b-fbef7b2a4b89 button.colab-df-convert');\n",
              "        buttonEl.style.display =\n",
              "          google.colab.kernel.accessAllowed ? 'block' : 'none';\n",
              "\n",
              "        async function convertToInteractive(key) {\n",
              "          const element = document.querySelector('#df-0b9f6f55-5a8f-471a-bc4b-fbef7b2a4b89');\n",
              "          const dataTable =\n",
              "            await google.colab.kernel.invokeFunction('convertToInteractive',\n",
              "                                                     [key], {});\n",
              "          if (!dataTable) return;\n",
              "\n",
              "          const docLinkHtml = 'Like what you see? Visit the ' +\n",
              "            '<a target=\"_blank\" href=https://colab.research.google.com/notebooks/data_table.ipynb>data table notebook</a>'\n",
              "            + ' to learn more about interactive tables.';\n",
              "          element.innerHTML = '';\n",
              "          dataTable['output_type'] = 'display_data';\n",
              "          await google.colab.output.renderOutput(dataTable, element);\n",
              "          const docLink = document.createElement('div');\n",
              "          docLink.innerHTML = docLinkHtml;\n",
              "          element.appendChild(docLink);\n",
              "        }\n",
              "      </script>\n",
              "    </div>\n",
              "  </div>\n",
              "  "
            ]
          },
          "metadata": {},
          "execution_count": 30
        }
      ],
      "source": [
        "df = pd.DataFrame(pca.components_.transpose(), \n",
        "                  columns = [f'V_{i+1}' for i in range(len(music_columns))], \n",
        "                  index=music_columns)\n",
        "df\n",
        "#plot verticalmente o primeiro componente"
      ]
    },
    {
      "cell_type": "code",
      "execution_count": 29,
      "metadata": {
        "id": "rzdttpk-YVgH",
        "colab": {
          "base_uri": "https://localhost:8080/",
          "height": 1000
        },
        "outputId": "e31e8385-40b1-4763-e9c4-6a04accae056"
      },
      "outputs": [
        {
          "output_type": "display_data",
          "data": {
            "text/plain": [
              "<Figure size 432x288 with 1 Axes>"
            ],
            "image/png": "[encoded data removed]"
          },
          "metadata": {
            "needs_background": "light"
          }
        },
        {
          "output_type": "display_data",
          "data": {
            "text/plain": [
              "<Figure size 432x288 with 1 Axes>"
            ],
            "image/png": "[encoded data removed]"
          },
          "metadata": {
            "needs_background": "light"
          }
        },
        {
          "output_type": "display_data",
          "data": {
            "text/plain": [
              "<Figure size 432x288 with 1 Axes>"
            ],
            "image/png": "[encoded data removed]"
          },
          "metadata": {
            "needs_background": "light"
          }
        },
        {
          "output_type": "display_data",
          "data": {
            "text/plain": [
              "<Figure size 432x288 with 1 Axes>"
            ],
            "image/png": "[encoded data removed]"
          },
          "metadata": {
            "needs_background": "light"
          }
        }
      ],
      "source": [
        "for vector in ['V_1','V_2','V_3','V_4']:\n",
        "    plt.figure()\n",
        "    plt.title(vector)\n",
        "    plt.plot(np.arange(len(music_columns)),list(df[vector]),'-o')\n",
        "    _=plt.xticks(np.arange(len(music_columns)),music_columns, rotation=90)\n",
        "    plt.grid()\n",
        "\n",
        "    #visualizar desta maneira os vectores; valores negativos e positivos para a maneira como os tipos de música influenciam as pontuações\n",
        "    #diferentes componentes e vemos como os tipos de música podem ser agrupados conforme os gostos"
      ]
    },
    {
      "cell_type": "markdown",
      "metadata": {
        "ExecuteTime": {
          "end_time": "2022-09-27T12:40:33.906396Z",
          "start_time": "2022-09-27T12:40:33.902364Z"
        },
        "id": "xUY3V2x5YVgI"
      },
      "source": [
        "### EXERCISE 1 : Find the dimensionality of the hidden dataset."
      ]
    },
    {
      "cell_type": "code",
      "execution_count": null,
      "metadata": {
        "id": "hr3kr4pxYVgI"
      },
      "outputs": [],
      "source": [
        "# In this exercise you will take a custom high dimensional dataset and try to find its dimensionality \n",
        "\n",
        "# 1. Load the data using the function data=load_multidimensional_data_pca() , check the dimensionality of the data and plot them.\n",
        "data=...\n",
        "n_samples,n_dim=... \n",
        "print('We have ',n_samples, 'samples of dimension ', n_dim)\n",
        "\n",
        "# 2. Define a PCA object and perform the PCA fitting.\n",
        "pca=PCA()\n",
        "pca....\n",
        "\n",
        "# 3. Check the explained variance ratio and select best number of components.\n",
        "print(pca...)\n",
        "plt.plot(...)\n"
      ]
    },
    {
      "cell_type": "markdown",
      "metadata": {
        "id": "6nJsEk2R91nM"
      },
      "source": [
        "### EXERCISE 2 : Find the hidden drawing."
      ]
    },
    {
      "cell_type": "code",
      "execution_count": null,
      "metadata": {
        "id": "ZzFrUe9sYVgI"
      },
      "outputs": [],
      "source": [
        "### In this exercise you will take a high dimensional dataset, find the optimal number of principal components \n",
        "# and see what plot do we get if we visualize in a 2D plot the first two scores.\n",
        "\n",
        "# 1. Load the data using the function data=load_ex2_data_pca(seed=1235) , check the dimensionality of the data and plot them.\n",
        "data=...\n",
        "n_samples,n_dim=... \n",
        "print('We have ',n_samples, 'samples of dimension ', n_dim)\n",
        "\n",
        "# 2. Define a PCA object and perform the PCA fitting.\n",
        "pca=PCA()\n",
        "pca....\n",
        "\n",
        "# 3. Check the explained variance ratio and select best number of components.\n",
        "print(pca...)\n",
        "plt.plot(...)\n",
        "\n",
        "# 4. Plot the reconstructed vectors for the best value of data=...\n",
        "k=...\n",
        "data_transformed=...\n",
        "plt.plot(data_transformed[:,...],data_transformed[:,...],'o')\n",
        "plt.xlabel('First component')\n",
        "plt.ylabel('Second component')"
      ]
    },
    {
      "cell_type": "markdown",
      "metadata": {
        "id": "VNzzuKLrYVgJ"
      },
      "source": [
        "### EXERCISE 3 (bonus) : "
      ]
    },
    {
      "cell_type": "code",
      "execution_count": null,
      "metadata": {
        "ExecuteTime": {
          "end_time": "2022-09-27T15:16:35.115619Z",
          "start_time": "2022-09-27T15:16:35.112616Z"
        },
        "id": "H_HkYoqMYVgJ"
      },
      "outputs": [],
      "source": [
        "# Explore more the survey dataset. Suppose you have studied the first vectors and found \n",
        "# some 4 types of music advertisment, targetted to the 4 classes of clients.\n",
        "\n",
        "# Given a customer, how would you choose which advertisement to send him?"
      ]
    },
    {
      "cell_type": "markdown",
      "metadata": {
        "id": "w3AtpLmQef_R"
      },
      "source": [
        "### Final comments:\n",
        "\n",
        "PCA is able therefore to make this mapping:\n",
        "\n",
        "$(x_1,...,x_D) \\rightarrow (y_1,..,y_M)$\n",
        "\n",
        "Here we focused on data compression, but it is also very important that $y_1,...,y_M$ are uncorrolated for interpratibility purposes. Being uncorrelated means (roughly) that in our dataset we can change one variable without affecting the others. The dimensions 1,...,M are often therefore more interpretable and providing more information.\n",
        "\n",
        "See e.g. a similar application here:\n",
        "\n",
        "\"Principal component analysis of dietary and lifestyle patterns in relation to risk of subtypes of esophageal and gastric cancer\", https://pubmed.ncbi.nlm.nih.gov/21435900/\n",
        "\n",
        ", where each data point $x$ is an answer from a questionnaire of food. The principal components are than typical \"patterns\" of answers that are uncorrlated, have a look at table 2, and if you want read the whole data story :)"
      ]
    },
    {
      "cell_type": "markdown",
      "metadata": {
        "id": "XEK5-Ksg91nw"
      },
      "source": [
        "## 2. Data visualization and embedding in low dimensions ( t-SNE / UMAP )"
      ]
    },
    {
      "cell_type": "markdown",
      "metadata": {
        "id": "4rP48tTL91nz"
      },
      "source": [
        "### Theory overview"
      ]
    },
    {
      "cell_type": "markdown",
      "metadata": {
        "id": "7_Jer5L-91n0"
      },
      "source": [
        "PCA is a linear embedding technique where the scores are a linear function of the original variables. This forces the number of principal components to be used to be high, if the manifold is highly non-linear. Curved manifolds need to be embedded in higher dimensions."
      ]
    },
    {
      "cell_type": "markdown",
      "metadata": {
        "id": "iX4zvhaN91n2"
      },
      "source": [
        "Other `non-linear` embedding techniques start from a local description of the environment of each sample point in the original space:\n",
        "\n",
        "- `t-Sne` uses a `statistical description` of the environment of a sample point ;\n",
        "- `UMAP` describes the `topology` of the environment through a generalized \"triangulation\" (simplex decomposition) ;\n",
        "\n",
        "The projection on the low-dimensional space is optimized in order to match as much as possible the description of the local environment. \n",
        "\n",
        "It is not the goal of this introduction to discuss the derivation of such approaches, which can be found in the references:\n",
        "\n",
        "https://lvdmaaten.github.io/publications/papers/JMLR_2008.pdf\n",
        "\n",
        "https://arxiv.org/pdf/1802.03426.pdf\n",
        "\n"
      ]
    },
    {
      "cell_type": "markdown",
      "metadata": {
        "id": "KhP5EIc791n7"
      },
      "source": [
        "Instead, the following, we will show how to apply practically these dimensionality reductions techniques. Keep in mind that the embedding is given by an iterative solution of a minimization problem and therefore the results may depend on the value of the random seed, especially for t-SNE visualizazions."
      ]
    },
    {
      "cell_type": "markdown",
      "metadata": {
        "id": "DwIggNFN91n8"
      },
      "source": [
        "### Utilization in Python and examples"
      ]
    },
    {
      "cell_type": "markdown",
      "metadata": {
        "id": "RP5RbzRa91n9"
      },
      "source": [
        "To begin with, we create a t-SNE object that we are going to use."
      ]
    },
    {
      "cell_type": "code",
      "execution_count": null,
      "metadata": {
        "ExecuteTime": {
          "end_time": "2022-09-26T19:17:17.498928Z",
          "start_time": "2022-09-26T19:17:17.495285Z"
        },
        "id": "BMZtUAyR91n9"
      },
      "outputs": [],
      "source": [
        "tsne_model = TSNE(perplexity=30, n_components=2, learning_rate=200, early_exaggeration=4.0,init='pca', \n",
        "                      n_iter=2000, random_state=2233212, metric='euclidean', verbose=100 )\n",
        "\n",
        "umap_model = umap.UMAP(n_neighbors=30, n_components=2, random_state=1711)"
      ]
    },
    {
      "cell_type": "markdown",
      "metadata": {
        "id": "D-iq56Yn91oD"
      },
      "source": [
        "### Example 1: Exercise 3 Cont'd"
      ]
    },
    {
      "cell_type": "markdown",
      "metadata": {
        "id": "OFZ_RAwj91oE"
      },
      "source": [
        "We will first visualize our multi-dimensional heart using t-SNE: "
      ]
    },
    {
      "cell_type": "code",
      "execution_count": null,
      "metadata": {
        "ExecuteTime": {
          "end_time": "2022-09-26T19:26:26.119196Z",
          "start_time": "2022-09-26T19:26:25.619284Z"
        },
        "id": "8TFExSbC91oF",
        "scrolled": true,
        "outputId": "bce950d0-1e4a-4448-d8f0-1a593e5d5c64"
      },
      "outputs": [
        {
          "name": "stdout",
          "output_type": "stream",
          "text": [
            "[t-SNE] Computing 91 nearest neighbors...\n",
            "[t-SNE] Indexed 651 samples in 0.001s...\n",
            "[t-SNE] Computed neighbors for 651 samples in 0.009s...\n",
            "[t-SNE] Computed conditional probabilities for sample 651 / 651\n",
            "[t-SNE] Mean sigma: 0.060286\n"
          ]
        },
        {
          "name": "stderr",
          "output_type": "stream",
          "text": [
            "/home/arismarcolongo/miniconda3/envs/selective_search/lib/python3.9/site-packages/sklearn/manifold/_t_sne.py:982: FutureWarning: The PCA initialization in TSNE will change to have the standard deviation of PC1 equal to 1e-4 in 1.2. This will ensure better convergence.\n",
            "  warnings.warn(\n"
          ]
        },
        {
          "name": "stdout",
          "output_type": "stream",
          "text": [
            "[t-SNE] KL divergence after 250 iterations with early exaggeration: 10.369261\n",
            "[t-SNE] KL divergence after 300 iterations: 0.602112\n"
          ]
        }
      ],
      "source": [
        "data= load_ex2_data_pca(seed=1235, n_add=20)\n",
        "\n",
        "tsne_model = TSNE(perplexity=30, n_components=2, learning_rate=200, early_exaggeration=4.0,init='pca', \n",
        "                      n_iter=300, random_state=2233212, metric='euclidean', verbose=1 )\n",
        "\n",
        "tsne_heart = tsne_model.fit_transform(data)"
      ]
    },
    {
      "cell_type": "code",
      "execution_count": null,
      "metadata": {
        "ExecuteTime": {
          "end_time": "2022-09-26T19:25:22.637451Z",
          "start_time": "2022-09-26T19:25:22.473134Z"
        },
        "id": "Eaa1qThPYVgM",
        "outputId": "2821263b-74c9-4dac-8c50-8d15e300fefd"
      },
      "outputs": [
        {
          "name": "stdout",
          "output_type": "stream",
          "text": [
            "[t-SNE] Computing 3 nearest neighbors...\n",
            "[t-SNE] Indexed 4 samples in 0.000s...\n",
            "[t-SNE] Computed neighbors for 4 samples in 0.002s...\n",
            "[t-SNE] Computed conditional probabilities for sample 4 / 4\n",
            "[t-SNE] Mean sigma: 12.094863\n",
            "[t-SNE] KL divergence after 250 iterations with early exaggeration: 33.738800\n",
            "[t-SNE] KL divergence after 1000 iterations: 0.047805\n"
          ]
        },
        {
          "data": {
            "text/plain": [
              "(4, 2)"
            ]
          },
          "execution_count": 3,
          "metadata": {},
          "output_type": "execute_result"
        }
      ],
      "source": [
        "import numpy as np\n",
        "from sklearn.manifold import TSNE\n",
        "from utils.routines import *\n",
        "import matplotlib.pyplot as plt\n",
        "\n",
        "X = np.array([[0, 0, 0], [0, 1, 1], [1, 0, 1], [1, 1, 1]])\n",
        "X_embedded = TSNE(n_components=2, learning_rate='auto',\n",
        "                   init='random', perplexity=3, verbose=1).fit_transform(X)\n",
        "X_embedded.shape"
      ]
    },
    {
      "cell_type": "code",
      "execution_count": null,
      "metadata": {
        "ExecuteTime": {
          "end_time": "2022-09-26T19:25:31.237944Z",
          "start_time": "2022-09-26T19:25:30.300387Z"
        },
        "id": "mpsvCDGGYVgM",
        "outputId": "047971a4-3444-496a-d265-06e5468f7e8e"
      },
      "outputs": [
        {
          "name": "stdout",
          "output_type": "stream",
          "text": [
            "[t-SNE] Computing 10 nearest neighbors...\n",
            "[t-SNE] Indexed 651 samples in 0.001s...\n",
            "[t-SNE] Computed neighbors for 651 samples in 0.003s...\n",
            "[t-SNE] Computed conditional probabilities for sample 651 / 651\n",
            "[t-SNE] Mean sigma: 0.025506\n",
            "[t-SNE] KL divergence after 250 iterations with early exaggeration: 69.112373\n",
            "[t-SNE] KL divergence after 1000 iterations: 0.924472\n"
          ]
        }
      ],
      "source": [
        "data= load_ex2_data_pca(seed=1235, n_add=20)\n",
        "\n",
        "tsne_model = TSNE(n_components=2, learning_rate='auto', init='random', perplexity=3, verbose=1)\n",
        "\n",
        "tsne_heart = tsne_model.fit_transform(data)"
      ]
    },
    {
      "cell_type": "code",
      "execution_count": null,
      "metadata": {
        "id": "iVphlEoiYVgN"
      },
      "outputs": [],
      "source": [
        "plt.scatter(tsne_heart[:,0],tsne_heart[:,1])\n",
        "plt.show()"
      ]
    },
    {
      "cell_type": "markdown",
      "metadata": {
        "id": "O0R8p_0E91oR"
      },
      "source": [
        "And using UMAP :"
      ]
    },
    {
      "cell_type": "code",
      "execution_count": null,
      "metadata": {
        "id": "BUU2YauU91oT"
      },
      "outputs": [],
      "source": [
        "umap_model = umap.UMAP(n_neighbors=30, n_components=2, random_state=1711)\n",
        "\n",
        "umap_hart = umap_model.fit_transform(data)\n",
        "plt.scatter(umap_hart[:, 0], umap_hart[:, 1])\n",
        "plt.show()"
      ]
    },
    {
      "cell_type": "markdown",
      "metadata": {
        "id": "kot3Prcv91oi"
      },
      "source": [
        "### Example 2: Mnist dataset"
      ]
    },
    {
      "cell_type": "code",
      "execution_count": null,
      "metadata": {
        "id": "KPdHmjm3YVgN"
      },
      "outputs": [],
      "source": [
        "mnist = tf.keras.datasets.mnist\n",
        "(train_images, train_labels), (test_images, test_labels) = mnist.load_data()\n",
        "\n",
        "n_examples = 5000\n",
        "data=train_images[:n_examples,:].reshape(n_examples,-1)\n",
        "data=data/255\n",
        "\n",
        "labels=train_labels[:n_examples]"
      ]
    },
    {
      "cell_type": "code",
      "execution_count": null,
      "metadata": {
        "id": "TDeL_V2a91op",
        "scrolled": true
      },
      "outputs": [],
      "source": [
        "# not to run on COLAB\n",
        "\n",
        "# tsne_model = TSNE(perplexity=10, n_components=2, learning_rate=200,\n",
        "#                   early_exaggeration=4.0,init='pca', \n",
        "#                   n_iter=2000, random_state=2233212, \n",
        "#                   metric='euclidean', verbose=100, n_jobs=1)\n",
        "\n",
        "# tsne_mnist = tsne_model.fit_transform(data)\n",
        "\n",
        "# plt.scatter(tsne_mnist[:,0],tsne_mnist[:,1],c=labels,s=10)\n",
        "# plt.show()"
      ]
    },
    {
      "cell_type": "markdown",
      "metadata": {
        "id": "ZRwwHbqpt9n0"
      },
      "source": [
        " | <img src=\"https://github.com/neworldemancer/DSF5/raw/master/figures/t_sne_mnist.png\" width=\"100%\"/> | <img src=\"https://github.com/neworldemancer/DSF5/raw/master/figures/mnist.png\" width=\"100%\"/> |\n",
        " |  -----:| -----:|"
      ]
    },
    {
      "cell_type": "code",
      "execution_count": null,
      "metadata": {
        "id": "2gUfOIlyYVgO"
      },
      "outputs": [],
      "source": [
        "umap_model = umap.UMAP(n_neighbors=10, n_components=2, random_state=1711)\n",
        "umap_mnist = umap_model.fit_transform(data)\n",
        "plt.scatter(umap_mnist[:, 0], umap_mnist[:, 1], c=labels, s=10)\n",
        "plt.show()"
      ]
    },
    {
      "cell_type": "markdown",
      "metadata": {
        "id": "wPOM-hCV91pB"
      },
      "source": [
        "### Example 3: Fashion_Mnist dataset"
      ]
    },
    {
      "cell_type": "code",
      "execution_count": null,
      "metadata": {
        "id": "Uq3DPRiV91pF"
      },
      "outputs": [],
      "source": [
        "fmnist = tf.keras.datasets.fashion_mnist\n",
        "(train_images, train_labels), (test_images, test_labels) = fmnist.load_data()\n",
        "\n",
        "n_examples = 5000\n",
        "data=train_images[:n_examples,:].reshape(n_examples,-1)\n",
        "data=data/255\n",
        "\n",
        "labels=train_labels[:n_examples]"
      ]
    },
    {
      "cell_type": "code",
      "execution_count": null,
      "metadata": {
        "id": "Ytrl7jyC91pR",
        "scrolled": true
      },
      "outputs": [],
      "source": [
        "# not to run on COLAB\n",
        "\n",
        "# tsne_model = TSNE(perplexity=50, n_components=2, learning_rate=200, early_exaggeration=4.0,init='pca', \n",
        "#                      n_iter=1000, random_state=2233212, metric='euclidean', verbose=100 )\n",
        "\n",
        "# tsne_fmnist = tsne_model.fit_transform(data)\n",
        "\n",
        "# plt.scatter(tsne_fmnist[:,0],tsne_fmnist[:,1],c=labels,s=10)\n",
        "# plt.show()"
      ]
    },
    {
      "cell_type": "markdown",
      "metadata": {
        "ExecuteTime": {
          "end_time": "2022-09-27T15:07:26.743568Z",
          "start_time": "2022-09-27T15:07:26.738108Z"
        },
        "id": "UUnsyxnet9n9"
      },
      "source": [
        " | <img src=\"https://github.com/neworldemancer/DSF5/raw/master/figures/t_sne_fmnist.png\" width=\"100%\"/> | <img src=\"https://github.com/neworldemancer/DSF5/raw/master/figures/fmnist.png\" width=\"100%\"/> \n",
        " |  -----:| -----:|"
      ]
    },
    {
      "cell_type": "code",
      "execution_count": null,
      "metadata": {
        "id": "xq3vZFJy91p8"
      },
      "outputs": [],
      "source": [
        "umap_model = umap.UMAP(n_neighbors=50, n_components=2, random_state=1711)\n",
        "umap_fmnist = umap_model.fit_transform(data)\n",
        "plt.scatter(umap_fmnist[:, 0], umap_fmnist[:, 1], c=labels, s=10)\n",
        "plt.show()"
      ]
    },
    {
      "cell_type": "markdown",
      "metadata": {
        "id": "bz2LEGDP91qM"
      },
      "source": [
        "### Example 4: House prices"
      ]
    },
    {
      "cell_type": "code",
      "execution_count": null,
      "metadata": {
        "id": "eycvatmq91qO"
      },
      "outputs": [],
      "source": [
        "data=house_prices_dataset_normed()"
      ]
    },
    {
      "cell_type": "code",
      "execution_count": null,
      "metadata": {
        "id": "82secxju91qZ",
        "scrolled": true
      },
      "outputs": [],
      "source": [
        "# not to run on COLAB\n",
        "\n",
        "#tsne_model = TSNE(perplexity=30, n_components=2, learning_rate=200,\n",
        "#                  early_exaggeration=4.0,init='pca', n_iter=1000,\n",
        "#                  random_state=2233212, metric='euclidean', verbose=100)\n",
        "\n",
        "#tsne_houses = tsne_model.fit_transform(data)\n",
        "\n",
        "#plt.scatter(tsne_houses[:,0],tsne_houses[:,1],s=20)\n",
        "#plt.savefig('t_sne_houses.png')\n",
        "# plt.show()"
      ]
    },
    {
      "cell_type": "markdown",
      "metadata": {
        "id": "ESjUplVMt9oF"
      },
      "source": [
        "<img src=\"https://github.com/neworldemancer/DSF5/raw/master/figures/t_sne_houses.png\" width=\"50%\"/>"
      ]
    },
    {
      "cell_type": "code",
      "execution_count": null,
      "metadata": {
        "id": "FWeCP6pN91qr"
      },
      "outputs": [],
      "source": [
        "umap_model = umap.UMAP(n_neighbors=30, n_components=2, random_state=1711)\n",
        "umap_houses = umap_model.fit_transform(data)\n",
        "plt.scatter(umap_houses[:, 0], umap_houses[:, 1], s=20)\n",
        "plt.show()"
      ]
    },
    {
      "cell_type": "markdown",
      "metadata": {
        "id": "1B3wGs2Q91rE"
      },
      "source": [
        "**Message:** Visualization techniques are useful for having an initial grasp of multi-dimensional datasets and guide further analysis and the choice of the modelling data strategy."
      ]
    },
    {
      "cell_type": "markdown",
      "metadata": {
        "id": "78xdYF9-B-jA"
      },
      "source": [
        "**Caveats:** \n",
        "- available t-SNE implementations may vary a lot in terms of performance. Computational time can be reduced performing PCA before a t-SNE projection\n",
        "\n",
        "- UMAP, thanks to the algorithm being amanable to clever initializations and optimization schemes, offers great stability and scaling properties\n",
        "\n",
        "- UMAP, even if starting from a local picture, is generally more able to spread apart different clusters\n",
        "\n",
        "- The result of an embedding may depend on the values of the metaparameters. One should try to see how the final embedding changes in order to get to a complete picture"
      ]
    }
  ],
  "metadata": {
    "colab": {
      "collapsed_sections": [],
      "provenance": [],
      "include_colab_link": true
    },
    "kernelspec": {
      "display_name": "Python 3 (ipykernel)",
      "language": "python",
      "name": "python3"
    },
    "language_info": {
      "codemirror_mode": {
        "name": "ipython",
        "version": 3
      },
      "file_extension": ".py",
      "mimetype": "text/x-python",
      "name": "python",
      "nbconvert_exporter": "python",
      "pygments_lexer": "ipython3",
      "version": "3.9.12"
    }
  },
  "nbformat": 4,
  "nbformat_minor": 0
}